{
 "cells": [
  {
   "cell_type": "markdown",
   "metadata": {},
   "source": [
    "# Symbolic computations with ABS multiforms\n",
    "\n",
    "Code related to:\n",
    "JJ Richardson, M vermeeren. \"Discrete Lagrangian multiforms for ABSequations I: quad equations\""
   ]
  },
  {
   "cell_type": "markdown",
   "metadata": {},
   "source": [
    "### Implementing class for Quad equations"
   ]
  },
  {
   "cell_type": "code",
   "execution_count": 1,
   "metadata": {},
   "outputs": [],
   "source": [
    "import numpy\n",
    "\n",
    "var(\"u,u_i,u_j,u_k,u_ij,u_jk,u_ik,u_ijk\")\n",
    "var(\"a_i,a_j,a_k\")\n",
    "var(\"delta\")\n",
    "varlist = [u,u_i,u_j,u_k,u_ij,u_jk,u_ik,u_ijk]\n",
    "paramvarlist = [a_i,a_j,a_k,u,u_i,u_j,u_k,u_ij,u_jk,u_ik,u_ijk]\n",
    "\n",
    "def cycle(func):\n",
    "    \"\"\"symmerise wrt cyclic permuations\"\"\"\n",
    "    var(\"temp\")\n",
    "    func = func.subs(a_k == temp).subs(a_j == a_k).subs(a_i == a_j).subs(temp == a_i)\n",
    "    func = func.subs(u_k == temp).subs(u_j == u_k).subs(u_i == u_j).subs(temp == u_i)\n",
    "    func = func.subs(u_ij == temp).subs(u_ik == u_ij).subs(u_jk == u_ik).subs(temp == u_jk)\n",
    "    return func\n",
    "\n",
    "def reverse(func):\n",
    "    \"\"\"symmerise wrt cyclic permuations\"\"\"\n",
    "    var(\"temp\")\n",
    "    func = func.subs(u == temp).subs(u_ijk == u).subs(temp = u_ijk)\n",
    "    func = func.subs(u_i == temp).subs(u_jk == u_i).subs(temp = u_jk)\n",
    "    func = func.subs(u_j == temp).subs(u_ik == u_j).subs(temp = u_ik)\n",
    "    func = func.subs(u_k == temp).subs(u_ij == u_k).subs(temp = u_ij)\n",
    "    return func\n",
    "\n",
    "def cyclic(func):\n",
    "    \"\"\"symmerise wrt cyclic permuations\"\"\"\n",
    "    var(\"temp\")\n",
    "    out = func\n",
    "    out += cycle(func)\n",
    "    out += cycle(cycle(func))\n",
    "    return out\n",
    "\n",
    "def shiftk(func):\n",
    "    func = func.subs(u == u_k)\n",
    "    func = func.subs(u_i == u_ik)\n",
    "    func = func.subs(u_j == u_jk)\n",
    "    func = func.subs(u_ij == u_ijk)\n",
    "    return func\n",
    "\n",
    "def allquads(quad):\n",
    "    return [0,reverse(cycle(quad)),reverse(cycle(cycle(quad))),reverse(quad),quad,cycle(quad),cycle(cycle(quad)),0]\n",
    "\n",
    "def crandom(real = False):\n",
    "    return numpy.random.uniform(-1, 1) + (1-int(real))*I * numpy.random.uniform(-1, 1)\n",
    "\n",
    "def randomtest(func, real = False):\n",
    "    \"\"\"test whether something is zero by assigning random values to variables\"\"\"\n",
    "    out = []\n",
    "    for i in range(5):\n",
    "        test = func.subs(a_k == crandom(real)).subs(a_j == crandom(real)).subs(a_i == crandom(real))\n",
    "        test = test.subs(u == crandom(real)).subs(u_k == crandom(real)).subs(u_j == crandom(real)).subs(u_i == crandom(real))\n",
    "        test = test.subs(u_ij == crandom(real)).subs(u_ik == crandom(real)).subs(u_jk == crandom(real)).subs(u_ijk == crandom(real))\n",
    "        out += [test]\n",
    "    return out\n",
    "\n",
    "def randominit(real = False, lim=5):\n",
    "    sol = {u: numpy.random.uniform(-lim, lim) + (1-int(real))*1.j * numpy.random.uniform(-lim, lim)}\n",
    "    sol[u_i] = numpy.random.uniform(-lim, lim) + (1-int(real))*1.j * numpy.random.uniform(-lim, lim)\n",
    "    sol[u_j] = numpy.random.uniform(-lim, lim) + (1-int(real))*1.j * numpy.random.uniform(-lim, lim)\n",
    "    sol[u_k] = numpy.random.uniform(-lim, lim) + (1-int(real))*1.j * numpy.random.uniform(-lim, lim)\n",
    "    sol[a_i] = numpy.random.uniform(-lim, lim) + (1-int(real))*1.j * numpy.random.uniform(-lim, lim)\n",
    "    sol[a_j] = numpy.random.uniform(-lim, lim) + (1-int(real))*1.j * numpy.random.uniform(-lim, lim)\n",
    "    sol[a_k] = numpy.random.uniform(-lim, lim) + (1-int(real))*1.j * numpy.random.uniform(-lim, lim)\n",
    "    return sol\n",
    "\n",
    "def multiaffine(func):\n",
    "    \"\"\"calculate all second derivatives to test if something is multiaffine\"\"\"\n",
    "    return [diff(func,v,2).simplify_full() for v in varlist]\n",
    "\n",
    "def intfields(action, sol):\n",
    "    return [ round(imaginary(-N(diff(action, var).subs(sol)/pi/2))) for var in paramvarlist]\n",
    "\n",
    "class Quad:\n",
    "    def __init__(self, Lshort, Llong, name=\"Q\"):\n",
    "        self.Lshort = Lshort\n",
    "        self.Llong = Llong\n",
    "        self.name = name\n",
    "        \n",
    "        self.phi = lambda u,v,a,b: diff(Llong(u,v,a,b),u)\n",
    "        self.psi = lambda u,v,a: diff(Lshort(u,v,a),u)\n",
    "\n",
    "        self.L3 = lambda u,u_i,u_j,u_ij,a,b: Lshort(u,u_i,a) - Lshort(u,u_j,b) - Llong(u_i,u_j,a,b)\n",
    "        self.L4 = lambda u,u_i,u_j,u_ij,a,b: Lshort(u,u_i,a) - Lshort(u,u_j,b) - Llong(u,u_ij,a,b)\n",
    "    \n",
    "        self.S4 = cyclic( -self.L4(u,u_i,u_j,u_ij,a_i,a_j) + self.L4(u_k,u_ik,u_jk,u_ijk,a_i,a_j) )\n",
    "        self.S3 = cyclic( -self.L3(u,u_i,u_j,u_ij,a_i,a_j) + self.L3(u_k,u_ik,u_jk,u_ijk,a_i,a_j) )\n",
    "        \n",
    "    def quads(self,a=0,b=8):\n",
    "        \"\"\"returns tetrahedron and quad equations\"\"\"\n",
    "        return [diff(self.S4,v) for v in varlist[a:b]]\n",
    "    # these are not in multiaffine form\n",
    "    # attribute affinequads needs to be set manually\n",
    "    \n",
    "    def affinequads(self):\n",
    "        return allquads(self.Q)\n",
    "    \n",
    "    def solve_cube(self,s_init):\n",
    "        sol = s_init\n",
    "        sol[u_ij] = u_ij.subs(solve(self.affinequads()[4], u_ij)).subs(sol)\n",
    "        sol[u_jk] = u_jk.subs(solve(self.affinequads()[5], u_jk)).subs(sol)\n",
    "        sol[u_ik] = u_ik.subs(solve(self.affinequads()[6], u_ik)).subs(sol)\n",
    "        sol[u_ijk] = u_ijk.subs(solve(self.affinequads()[1], u_ijk)).subs(sol)\n",
    "        return sol\n",
    "        \n",
    "    def biquadratic(self,v,w):\n",
    "        bq = expand( ( self.Q*diff(self.Q,v,w)-diff(self.Q,v)*diff(self.Q,w) )  )\n",
    "        if self.name in klist:\n",
    "            bq = bq*klist[self.name]\n",
    "        return factor(bq)\n",
    "    \n",
    "    def corners(self):\n",
    "        \"\"\"returns multiaffine corner eqns for the triangle Lagrangian\"\"\"\n",
    "        return [diff(self.affinequads()[4],u)*self.affinequads()[6] - diff(self.affinequads()[6],u)*self.affinequads()[4],\n",
    "                diff(self.affinequads()[5],u)*self.affinequads()[4] - diff(self.affinequads()[4],u)*self.affinequads()[5],\n",
    "                diff(self.affinequads()[6],u)*self.affinequads()[5] - diff(self.affinequads()[5],u)*self.affinequads()[6],\n",
    "                diff(self.affinequads()[1],u_ijk)*self.affinequads()[2] - diff(self.affinequads()[2],u_ijk)*self.affinequads()[1],\n",
    "                diff(self.affinequads()[2],u_ijk)*self.affinequads()[3] - diff(self.affinequads()[3],u_ijk)*self.affinequads()[2],\n",
    "                diff(self.affinequads()[3],u_ijk)*self.affinequads()[1] - diff(self.affinequads()[1],u_ijk)*self.affinequads()[3]]\n",
    "    \n",
    "    def S3EL(self,a=0,b=8):\n",
    "        \"\"\"returns corner equations of 3-point lagrangian\"\"\"\n",
    "        return [diff(self.S3,v) for v in varlist[a:b]]\n",
    "    \n",
    "    def checkCAC(self, verbose=True):\n",
    "        \"\"\"checks CAC and prints formulas for double and triple shifts\"\"\"\n",
    "        step1 = solve(self.affinequads()[4], u_ij) + solve(self.affinequads()[5], u_jk) + solve(self.affinequads()[6], u_ik)\n",
    "        ans1 = u_ijk.subs(solve(self.affinequads()[1].subs(step1).simplify_trig(), u_ijk))\n",
    "        ans2 = u_ijk.subs(solve(self.affinequads()[2].subs(step1).simplify_trig(), u_ijk))\n",
    "        ans3 = u_ijk.subs(solve(self.affinequads()[3].subs(step1).simplify_trig(), u_ijk))\n",
    "        if verbose:\n",
    "            show(step1)\n",
    "            show(ans1)\n",
    "        return bool((expand(ans1-ans2).simplify_trig() == 0) and (expand(ans2-ans3).simplify_trig() == 0))\n",
    "    \n",
    "    def R(self):\n",
    "        return [expand(1/2*( diff(self.corners()[0],u_i) + diff(self.corners()[4],u_jk) )),\n",
    "                expand(1/2*( diff(self.corners()[1],u_j) + diff(self.corners()[5],u_ik) )),\n",
    "                expand(1/2*( diff(self.corners()[2],u_k) + diff(self.corners()[3],u_ij) ))]\n",
    "    def f(self):\n",
    "        return [diff(self.affinequads()[4],u,u_i),diff(self.affinequads()[5],u,u_j),diff(self.affinequads()[6],u,u_k)]\n",
    "    def Omega1(self):\n",
    "        return (self.R()[0]/self.f()[0]).collect(a_i).collect(a_j).collect(a_k)\n",
    "    def P1(self):\n",
    "        return expand(self.corners()[0] - u_i*self.R()[0])\n",
    "    def P23(self):\n",
    "        return expand(self.corners()[4] - u_jk*self.R()[0])\n",
    "    def g(self):\n",
    "        out = -1 #TODO: adapt to individual eqns\n",
    "        if self.name==\"Q1_0\":\n",
    "            out = -a_i*(a_j+a_k-a_i)\n",
    "        return out\n",
    "    def Omega2(self):\n",
    "        return ((self.P1() - self.P23())/self.g()).simplify_full().expand().collect(a_i).collect(a_j).collect(a_k)"
   ]
  },
  {
   "cell_type": "markdown",
   "metadata": {},
   "source": [
    "### Defining the ABS Lagrangians in various transformations"
   ]
  },
  {
   "cell_type": "code",
   "execution_count": 23,
   "metadata": {},
   "outputs": [],
   "source": [
    "lin = Quad(\n",
    "    lambda u,v,a: u*v,\n",
    "    lambda u,v,a,b: 1/2*(a-b)/(a+b)*(u-v)^2,\n",
    "    \"lin\"\n",
    "    )\n",
    "H1 = Quad(\n",
    "    lambda u,v,a: 2*u*v,\n",
    "    lambda u,v,a,b: (a-b)*log((u-v)^2),\n",
    "    \"H1\"\n",
    ")\n",
    "H1asym = Quad(\n",
    "    lambda u,v,a: u*v,\n",
    "    lambda u,v,a,b: (a-b)*log(u-v),\n",
    "    \"H1asym\"\n",
    ")\n",
    "H2 = Quad(\n",
    "    lambda u,v,a: (u+v+a)*log(u+v+a),\n",
    "    lambda u,v,a,b: (u-v+a-b)*log(u-v+a-b) + (-u+v+a-b)*log(-u+v+a-b) + (u+v)*pi*I,\n",
    "    \"H2\"\n",
    ")\n",
    "H2asym = Quad(\n",
    "    lambda u,v,a: (u+v+a)*log(u+v+a),\n",
    "    lambda u,v,a,b: (u-v+a-b)*log(u-v+a-b) + (-u+v+a-b)*log(u-v-a+b),\n",
    "    \"H2asym\"\n",
    ")\n",
    "H3_0 = Quad(\n",
    "    lambda u,v,a: -1/2*log(u*v)^2,\n",
    "    lambda u,v,a,b: -dilog(a/b*u/v) - dilog(a/b*v/u) - 1/2*(log(-u/v))^2,\n",
    "    \"H3_0\"\n",
    ")\n",
    "H3_0t = Quad(\n",
    "    lambda u,v,a: -u*v,\n",
    "    lambda u,v,a,b: -dilog(exp(a-b)*exp(u-v)) - dilog(exp(a-b)*exp(v-u)) - 1/2*(u-v)^2 + (u+v)*pi*I,\n",
    "    \"H3_0t\"\n",
    ")\n",
    "H3_0asym = Quad(\n",
    "    lambda u,v,a: -u*v,\n",
    "    lambda u,v,a,b: -dilog(exp(a-b)*exp(u-v)) + dilog(exp(b-a)*exp(u-v)) - (a-b)*(u-v),\n",
    "    \"H3_0asym\"\n",
    ")\n",
    "H3_1 = Quad(\n",
    "    lambda u,v,a: dilog(-u*v/a) - log(a)*log(u*v),\n",
    "    lambda u,v,a,b: -dilog(a/b*u/v) - dilog(a/b*v/u) - 1/2*(log(-u/v))^2, \n",
    "    \"H3_1\"\n",
    ")\n",
    "H3_1t = Quad(\n",
    "    lambda u,v,a: dilog(exp(u+v-a)) - (a+pi*I)*(u+v),\n",
    "    lambda u,v,a,b: -dilog(exp(a-b+u-v)) - dilog(exp(a-b+v-u)) - 1/2*(u-v)^2 + (u+v)*pi*I,\n",
    "    \"H3_1t\"\n",
    ")\n",
    "H3_1asym = Quad(\n",
    "    lambda u,v,a: dilog(exp(u+v-a)) - a*(u+v),\n",
    "    lambda u,v,a,b: -dilog(exp(a-b+u-v)) + dilog(exp(b-a-v+u)) - (a-b)*(u-v),\n",
    "    \"H3_1asym\"\n",
    ")\n",
    "Q1_0 = Quad(\n",
    "    lambda u,v,a: a*log((u-v)^2),\n",
    "    lambda u,v,a,b: (a-b)*log((u-v)^2),\n",
    "    \"Q1_0\"\n",
    ")\n",
    "Q1_0asym = Quad(\n",
    "    lambda u,v,a: a*log(u-v),\n",
    "    lambda u,v,a,b: (a-b)*log(u-v),\n",
    "    \"Q1_0asym\"\n",
    ")\n",
    "Q1_1 = Quad(\n",
    "    lambda u,v,a: (u-v+a)*log(u-v+a) + (-u+v+a)*log(-u+v+a) + (u+v)*pi*I,\n",
    "    lambda u,v,a,b: (u-v+a-b)*log(u-v+a-b) + (-u+v+a-b)*log(-u+v+a-b) + (u+v)*pi*I,\n",
    "    \"Q1_1\"\n",
    ")\n",
    "Q1_1asym = Quad(\n",
    "    lambda u,v,a: (u-v+a)*log(u-v+a) + (-u+v+a)*log(u-v-a),\n",
    "    lambda u,v,a,b: (u-v+a-b)*log(u-v+a-b) + (-u+v+a-b)*log(u-v-a+b),\n",
    "    \"Q1_1asym\"\n",
    ")\n",
    "Q2 = Quad(\n",
    "    lambda u,v,a: (sqrt(u)+sqrt(v)+a)*log(sqrt(u)+sqrt(v)+a) + (sqrt(u)-sqrt(v)+a)*log(sqrt(u)-sqrt(v)+a)\n",
    "                - (sqrt(u)+sqrt(v)-a)*log(sqrt(u)+sqrt(v)-a) + (-sqrt(u)+sqrt(v)+a)*log(-sqrt(u)+sqrt(v)+a) + (sqrt(u)+sqrt(v))*pi*I ,\n",
    "    lambda u,v,a,b: (sqrt(u)+sqrt(v)+a-b)*log(sqrt(u)+sqrt(v)+a-b) + (sqrt(u)-sqrt(v)+a-b)*log(sqrt(u)-sqrt(v)+a-b) \n",
    "                - (sqrt(u)+sqrt(v)-a+b)*log(sqrt(u)+sqrt(v)-a+b) + (-sqrt(u)+sqrt(v)+a-b)*log(-sqrt(u)+sqrt(v)+a-b) + (sqrt(u)+sqrt(v))*pi*I ,\n",
    "    \"Q2\"\n",
    ")\n",
    "Q2t = Quad(\n",
    "    lambda u,v,a: (u+v+a)*log(u+v+a) + (u-v+a)*log(u-v+a) - (u+v-a)*log(u+v-a) + (-u+v+a)*log(-u+v+a) + (u+v)*pi*I ,\n",
    "    lambda u,v,a,b: (u+v+a-b)*log(u+v+a-b) + (u-v+a-b)*log(u-v+a-b) - (u+v-a+b)*log(u+v-a+b) + (-u+v+a-b)*log(-u+v+a-b) + (u+v)*pi*I ,\n",
    "    \"Q2t\"\n",
    ")\n",
    "Q2asym = Quad(\n",
    "    lambda u,v,a: (u+v+a)*log(u+v+a) + (u-v+a)*log(u-v+a) + (-u-v+a)*log(u+v-a) + (-u+v+a)*log(u-v-a),\n",
    "    lambda u,v,a,b: (u+v+a-b)*log(u+v+a-b) + (u-v+a-b)*log(u-v+a-b) + (-u-v+a-b)*log(u+v-a+b) + (-u+v+a-b)*log(u-v-a+b),\n",
    "    \"Q2asym\"\n",
    ")\n",
    "Q3_0 = Quad( # Rational version\n",
    "    lambda u,v,a: -dilog(a*u/v) - dilog(a*v/u) - 1/2*log(-u/v)^2, # -dilog(a*u/v) + dilog(u/a/v) - log(a)*log(u/v),\n",
    "    lambda u,v,a,b: -dilog(a*u/b/v) - dilog(a*v/b/u) - 1/2*log(-u/v)^2, # -dilog(a*u/b/v) + dilog(b*u/a/v) - log(a/b)*log(u/v),\n",
    "    \"Q3_0\"\n",
    ")\n",
    "Q3_0t = Quad(\n",
    "    lambda u,v,a: -dilog(exp(a+u-v)) - dilog(exp(a+v-u)) - 1/2*(u-v)^2 + (u+v)*pi*I,\n",
    "    lambda u,v,a,b: -dilog(exp((a-b)+u-v)) - dilog(exp((a-b)+v-u)) - 1/2*(u-v)^2 + (u+v)*pi*I,\n",
    "    \"Q3_0t\"\n",
    ")\n",
    "Q3_0asym = Quad(\n",
    "    lambda u,v,a: -dilog(exp(a+u-v)) + dilog(exp(-a+u-v)) - a*(u-v),\n",
    "    lambda u,v,a,b: -dilog(exp((a-b)+u-v)) + dilog(exp(-(a-b)+u-v)) - (a-b)*(u-v),\n",
    "    \"Q3_0asym\"\n",
    ")\n",
    "Q3_1 = Quad(\n",
    "    lambda u,v,a: 0, # No explicit L known for the multiaffine form of Q3_1\n",
    "    lambda u,v,a,b: 0,\n",
    "    \"Q3_1\"\n",
    ")\n",
    "Q3_1t = Quad(\n",
    "    lambda u,v,a: dilog(exp(+u+v-a)) + dilog(exp(+u-v-a)) \n",
    "                + dilog(exp(-u-v-a)) + dilog(exp(-u+v-a)) + u^2 + v^2 - a*(u-v),\n",
    "    lambda u,v,a,b: dilog(exp(+u+v-a+b)) + dilog(exp(+u-v-a+b)) \n",
    "                    + dilog(exp(-u-v-a+b)) + dilog(exp(-u+v-a+b)) + u^2 + v^2 - (a-b)*(u-v),\n",
    "    \"Q3_1t\"\n",
    ")\n",
    "Q3_1asym = Quad(\n",
    "    lambda u,v,a: dilog(exp(-u+v-a)) + dilog(exp(-u-v-a)) \n",
    "                - dilog(exp(-u+v+a)) - dilog(exp(-u-v+a)) + a*(u-v),\n",
    "    lambda u,v,a,b: dilog(exp(-u+v-a+b)) + dilog(exp(-u-v-a+b)) \n",
    "                    - dilog(exp(-u+v+a-b)) - dilog(exp(-u-v+a-b)) + (a-b)*(u-v) ,\n",
    "    \"Q3_1asym\"\n",
    ")\n",
    "Q4 = Quad(\n",
    "    lambda u,v,a: 0,\n",
    "    lambda u,v,a,b: 0,\n",
    "    \"Q4\"\n",
    ")\n",
    "A1_0 = Quad(\n",
    "    lambda u,v,a: 2*a*log(u+v),\n",
    "    lambda u,v,a,b: (a-b)*log((u-v)^2),\n",
    "    \"A1_0\"\n",
    ")\n",
    "A1_0asym = Quad(\n",
    "    lambda u,v,a: a*log(u+v),\n",
    "    lambda u,v,a,b: (a-b)*log(u-v),\n",
    "    \"A1_0asym\"\n",
    ")\n",
    "A1_1 = Quad(\n",
    "    lambda u,v,a: (u+v+a)*log(u+v+a) + (-u-v+a)*log(u+v-a),\n",
    "    lambda u,v,a,b: (-u+v+a-b)*log(-u+v+a-b) + (u-v+a-b)*log(u-v+a-b) + (u+v)*pi*I,\n",
    "    \"A1_1\"\n",
    ")\n",
    "A1_1asym = Quad(\n",
    "    lambda u,v,a: (u+v+a)*log(u+v+a) - (u+v-a)*log(u+v-a),\n",
    "    lambda u,v,a,b: (-u+v+a-b)*log(-u+v+a-b) + (u-v+a-b)*log(-u+v-a+b),\n",
    "    \"A1_1asym\"\n",
    ")\n",
    "A2 = Quad(\n",
    "    lambda u,v,a: -dilog(a*u*v) + dilog(u*v/a) - log(a)*log(u*v),\n",
    "    lambda u,v,a,b: -dilog(u/v*a/b) - dilog(v/u*a/b) - 1/2*log(-u/v)^2,\n",
    "    \"A2\"\n",
    ")\n",
    "A2t = Quad(\n",
    "    lambda u,v,a: -dilog(exp(a+u+v)) + dilog(exp(-a+u+v)) - a*(u+v),\n",
    "    lambda u,v,a,b: -dilog(exp((a-b)+u-v)) - dilog(exp((a-b)+v-u)) - 1/2*(u-v)^2 + (u+v)*pi*I,\n",
    "    \"A2t\"\n",
    ")\n",
    "A2asym = Quad(\n",
    "    lambda u,v,a: -dilog(exp(a+u+v)) + dilog(exp(-a+u+v)) - a*(u+v),\n",
    "    lambda u,v,a,b: -dilog(exp((a-b)+u-v)) + dilog(exp(-(a-b)+u-v)) - (a-b)*(u-v),\n",
    "    \"A2asym\"\n",
    ")\n",
    "\n",
    "# ABS list including both multi-affine and transformed equations\n",
    "ABSlist = [H1,H2,H3_0,H3_0t,H3_1,H3_1t,Q1_0,Q1_1,Q2,Q2t,Q3_0,Q3_0t,Q3_1,Q3_1t,A1_0,A1_1,A2,A2t]\n",
    "\n",
    "# ABS list in multi-affine form\n",
    "affABSlist = [H1,H2,H3_0,H3_1,Q1_0,Q1_1,Q2,Q3_0,Q3_1,A1_0,A1_1,A2]\n",
    "\n",
    "# ABS list in transformed symmetric form\n",
    "tABSlist = [H1,H2,H3_0t,H3_1t,Q1_0,Q1_1,Q2t,Q3_0t,Q3_1t,A1_0,A1_1,A2t]\n",
    "\n",
    "# ABS list with asymetric Lagrangians for transformed equations\n",
    "asymABSlist = [H1asym,H2asym,H3_0asym,H3_1asym,Q1_0asym,Q1_1asym,Q2asym,Q3_0asym,Q3_1asym,A1_0asym,A1_1asym,A2asym]"
   ]
  },
  {
   "cell_type": "markdown",
   "metadata": {},
   "source": [
    "### Manual definition of multi-affine form of quad equations\n",
    "Includes check that they are consistend with the multi-time Euler-Lagrange equations"
   ]
  },
  {
   "cell_type": "code",
   "execution_count": 24,
   "metadata": {
    "scrolled": true
   },
   "outputs": [
    {
     "name": "stdout",
     "output_type": "stream",
     "text": [
      "H1\n",
      "0\n",
      "0\n",
      "H1asym\n",
      "0\n",
      "0\n",
      "H2\n",
      "0\n",
      "0\n",
      "H2asym\n",
      "0\n",
      "0\n",
      "H3_0\n",
      "0\n",
      "0\n",
      "H3_0t\n",
      "0\n",
      "0\n",
      "H3_0asym\n",
      "0\n",
      "0\n",
      "H3_1\n",
      "0\n",
      "0\n",
      "H3_1t\n",
      "0\n",
      "0\n",
      "H3_1asym\n",
      "0\n",
      "0\n",
      "Q1_0\n",
      "0\n",
      "0\n",
      "Q1_0asym\n",
      "0\n",
      "0\n",
      "Q1_1\n",
      "0\n",
      "0\n",
      "Q1_1asym\n",
      "0\n",
      "0\n",
      "Q2\n",
      "0\n",
      "0\n",
      "Q2t\n",
      "0\n",
      "0\n",
      "Q2asym\n",
      "0\n",
      "0\n",
      "Q3_0\n",
      "0\n",
      "0\n",
      "Q3_0t\n",
      "0\n",
      "0\n",
      "Q3_0asym\n",
      "0\n",
      "0\n",
      "Q3_1\n",
      "Q3_1t\n",
      "0\n",
      "0\n",
      "Q3_1asym\n",
      "0\n",
      "0\n",
      "Q4\n",
      "A1_0\n",
      "0\n",
      "0\n",
      "A1_0asym\n",
      "0\n",
      "0\n",
      "A1_1\n",
      "0\n",
      "0\n",
      "A1_1asym\n",
      "0\n",
      "0\n",
      "A2\n",
      "0\n",
      "0\n",
      "A2t\n",
      "0\n",
      "0\n",
      "A2asym\n",
      "0\n",
      "0\n"
     ]
    }
   ],
   "source": [
    "# Here we set Quad.Q using case by case computations.\n",
    "def polynomial(fraction, rhs=0):\n",
    "    return fraction.numerator() - rhs*fraction.denominator()\n",
    "\n",
    "lin.Q = -(a_i - a_j)*(u - u_ij)/(a_i + a_j) + u_i - u_j\n",
    "\n",
    "eqn = H1\n",
    "print(eqn.name)\n",
    "quad = (u_i-u_j)*(u-u_ij) - a_i + a_j # manually define Q\n",
    "print(expand( quad - polynomial(eqn.quads()[4]) )) # check that Q is multi-affine version of quad\n",
    "print(expand( shiftk(2*quad) + polynomial(eqn.quads()[3]) ))\n",
    "eqn.Q = quad\n",
    "\n",
    "eqn = H1asym\n",
    "print(eqn.name)\n",
    "quad = (u_i-u_j)*(u-u_ij) - a_i + a_j # manually define Q\n",
    "print(expand( quad - polynomial(eqn.quads()[4]) )) # check that Q is multi-affine version of quad\n",
    "print(expand( shiftk(quad) + polynomial(eqn.quads()[3]) ))\n",
    "eqn.Q = quad\n",
    "\n",
    "eqn = H2\n",
    "print(eqn.name)\n",
    "quad = (u_i-u_j)*(u-u_ij) + (a_j-a_i)*(u+u_i+u_j+u_ij) - a_i^2 + a_j^2 # manually define Q\n",
    "print( expand(quad - polynomial( exp(eqn.quads()[4]).simplify_full() ,1) )) # check that Q is multi-affine version of quad\n",
    "print(expand( shiftk(quad) - polynomial( exp(eqn.quads()[3]).simplify_full() ,1) ))\n",
    "eqn.Q = quad\n",
    "\n",
    "eqn = H2asym\n",
    "print(eqn.name)\n",
    "quad = (u_i-u_j)*(u-u_ij) + (a_j-a_i)*(u+u_i+u_j+u_ij) - a_i^2 + a_j^2 # manually define Q\n",
    "print( expand(quad - polynomial( exp(eqn.quads()[4]).simplify_full() ,1) )) # check that Q is multi-affine version of quad\n",
    "print(expand( shiftk(quad) - polynomial( exp(eqn.quads()[3]).simplify_full() ,1) ))\n",
    "eqn.Q = quad\n",
    "\n",
    "eqn = H3_0\n",
    "print(eqn.name)\n",
    "quad = a_i*(u*u_i + u_j*u_ij) - a_j*(u*u_j + u_i*u_ij) # manually define Q\n",
    "print(expand(quad + expand(polynomial( exp(expand(eqn.quads()[4]*u_ij)).simplify_full() ,1)) )) # check that Q is multi-affine version of quad\n",
    "print(expand( shiftk(quad) - expand(polynomial( exp(expand(eqn.quads()[3]*u_k)).simplify_full() ,1)) ))\n",
    "eqn.Q = quad\n",
    "\n",
    "eqn = H3_0t\n",
    "print(eqn.name)\n",
    "quad = exp(a_i)*(e^u*e^u_i + e^u_j*e^u_ij) - exp(a_j)*(e^u*e^u_j + e^u_i*e^u_ij) # manually define Q\n",
    "print(expand(quad + expand(polynomial( exp(expand(eqn.quads()[4])).simplify_full() ,1)) )) # check that Q is multi-affine version of quad\n",
    "print(expand( shiftk(quad) + expand(polynomial( exp(expand(eqn.quads()[3])).simplify_full() ,1)) ))\n",
    "eqn.Q = quad\n",
    "\n",
    "eqn = H3_0asym\n",
    "print(eqn.name)\n",
    "quad = exp(a_i)*(e^u*e^u_i + e^u_j*e^u_ij) - exp(a_j)*(e^u*e^u_j + e^u_i*e^u_ij) # manually define Q\n",
    "print(expand(quad + expand(polynomial( exp(expand(eqn.quads()[4])).simplify_full() ,1)) )) # check that Q is multi-affine version of quad\n",
    "print(expand( shiftk(quad) + expand(polynomial( exp(expand(eqn.quads()[3])).simplify_full() ,1)) ))\n",
    "eqn.Q = quad\n",
    "\n",
    "eqn = H3_1\n",
    "print(eqn.name)\n",
    "quad = a_i*(u*u_i + u_j*u_ij) - a_j*(u*u_j + u_i*u_ij) + (a_i^2 - a_j^2) # manually define Q\n",
    "print(expand(quad + expand(polynomial( exp(expand(eqn.quads()[4]*u_ij)).simplify_full() ,1)/u_ij) )) # check that Q is multi-affine version of quad\n",
    "print(expand( shiftk(quad) - expand(polynomial( exp(expand(eqn.quads()[3]*u_k)).simplify_full() ,1)/u_k) )) # check that Q is multi-affine version of quad\n",
    "eqn.Q = quad\n",
    "\n",
    "eqn = H3_1t\n",
    "print(eqn.name)\n",
    "quad = -exp(a_i)*(e^u*e^u_i + e^u_j*e^u_ij) + exp(a_j)*(e^u*e^u_j + e^u_i*e^u_ij) + (exp(2*a_i) - exp(2*a_j)) # manually define Q\n",
    "print(expand(quad - expand(polynomial( exp(expand(eqn.quads()[4])).simplify_full() ,1)*exp(-u_ij)) )) # check that Q is multi-affine version of quad\n",
    "print(expand( shiftk(quad) + expand(polynomial( exp(expand(eqn.quads()[3])).simplify_full() ,1)*exp(-u_k)) )) # check that Q is multi-affine version of quad\n",
    "eqn.Q = quad\n",
    "\n",
    "eqn = H3_1asym\n",
    "print(eqn.name)\n",
    "quad = -exp(a_i)*(e^u*e^u_i + e^u_j*e^u_ij) + exp(a_j)*(e^u*e^u_j + e^u_i*e^u_ij) + (exp(2*a_i) - exp(2*a_j)) # manually define Q\n",
    "print(expand(quad - expand(polynomial( exp(expand(eqn.quads()[4])).simplify_full() ,1)*exp(-u_ij)) )) # check that Q is multi-affine version of quad\n",
    "print(expand( shiftk(quad) + expand(polynomial( exp(expand(eqn.quads()[3])).simplify_full() ,1)*exp(-u_k)) )) # check that Q is multi-affine version of quad\n",
    "eqn.Q = quad\n",
    "\n",
    "eqn = Q1_0\n",
    "print(eqn.name)\n",
    "quad = a_i*(u-u_j)*(u_i-u_ij) - a_j*(u-u_i)*(u_j-u_ij)\n",
    "print(expand(2*quad + polynomial(eqn.quads()[4]) )) # check that Q is multi-affine version of quad\n",
    "print(expand( shiftk(2*quad) + polynomial(eqn.quads()[3]) )) \n",
    "eqn.Q = quad\n",
    "\n",
    "eqn = Q1_0asym\n",
    "print(eqn.name)\n",
    "quad = a_i*(u-u_j)*(u_i-u_ij) - a_j*(u-u_i)*(u_j-u_ij)\n",
    "print(expand(quad + polynomial(eqn.quads()[4]) )) # check that Q is multi-affine version of quad\n",
    "print(expand( shiftk(quad) + polynomial(eqn.quads()[3]) )) \n",
    "eqn.Q = quad\n",
    "\n",
    "eqn = Q1_1\n",
    "print(eqn.name)\n",
    "quad = a_i*(u-u_j)*(u_i-u_ij) - a_j*(u-u_i)*(u_j-u_ij) + a_i*a_j*(a_i-a_j)\n",
    "print(expand(quad + 1/2*polynomial(exp(eqn.quads()[4]).simplify_full() ,1) )) # check that Q is multi-affine version of quad\n",
    "print(expand( shiftk(quad) + 1/2*polynomial(exp(eqn.quads()[3]).simplify_full() ,1) ))\n",
    "eqn.Q = quad\n",
    "\n",
    "eqn = Q1_1asym\n",
    "print(eqn.name)\n",
    "quad = a_i*(u-u_j)*(u_i-u_ij) - a_j*(u-u_i)*(u_j-u_ij) + a_i*a_j*(a_i-a_j)\n",
    "print(expand(quad + 1/2*polynomial(exp(eqn.quads()[4]).simplify_full() ,1) )) # check that Q is multi-affine version of quad\n",
    "print(expand( shiftk(quad) + 1/2*polynomial(exp(eqn.quads()[3]).simplify_full() ,1) ))\n",
    "eqn.Q = quad\n",
    "\n",
    "eqn = Q2\n",
    "print(eqn.name)\n",
    "quad = a_i*(u-u_j)*(u_i-u_ij) - a_j*(u-u_i)*(u_j-u_ij)\n",
    "quad += a_i*a_j*(a_i-a_j)*(u + u_i + u_j + u_ij - a_i^2 + a_i*a_j - a_j^2) # manually define Q\n",
    "print(expand(quad + polynomial( exp(2*eqn.quads()[4]*sqrt(u_ij)).simplify_full() ,1)/sqrt(u_ij)/4 )) # check that Q is multi-affine version of quad\n",
    "print(expand( shiftk(quad) - polynomial( exp(2*eqn.quads()[3]*sqrt(u_k)).simplify_full() ,1)/sqrt(u_k)/4 )) \n",
    "eqn.Q = quad\n",
    "\n",
    "eqn = Q2t\n",
    "print(eqn.name)\n",
    "quad = a_i*(u^2-u_j^2)*(u_i^2-u_ij^2) - a_j*(u^2-u_i^2)*(u_j^2-u_ij^2)\n",
    "quad += a_i*a_j*(a_i-a_j)*(u^2 + u_i^2 + u_j^2 + u_ij^2 - a_i^2 + a_i*a_j - a_j^2) # manually define Q\n",
    "print(expand(quad + polynomial( exp(eqn.quads()[4]).simplify_full() ,1)/4/u_ij )) # check that Q is multi-affine version of quad\n",
    "print(expand( shiftk(quad) - polynomial( exp(eqn.quads()[3]).simplify_full() ,1)/4/u_k )) \n",
    "eqn.Q = quad\n",
    "\n",
    "eqn = Q2asym\n",
    "print(eqn.name)\n",
    "quad = a_i*(u^2-u_j^2)*(u_i^2-u_ij^2) - a_j*(u^2-u_i^2)*(u_j^2-u_ij^2)\n",
    "quad += a_i*a_j*(a_i-a_j)*(u^2 + u_i^2 + u_j^2 + u_ij^2 - a_i^2 + a_i*a_j - a_j^2) # manually define Q\n",
    "print(expand(quad + polynomial( exp(eqn.quads()[4]).simplify_full() ,1)/4/u_ij )) # check that Q is multi-affine version of quad\n",
    "print(expand( shiftk(quad) - polynomial( exp(eqn.quads()[3]).simplify_full() ,1)/4/u_k )) \n",
    "eqn.Q = quad\n",
    "\n",
    "eqn = Q3_0\n",
    "print(eqn.name)\n",
    "quad = (a_j^2-a_i^2)*(u*u_ij + u_i*u_j) + a_j*(a_i^2-1)*(u*u_i + u_j*u_ij) - a_i*(a_j^2-1)*(u*u_j + u_i*u_ij) # manually define Q\n",
    "print(expand(quad + polynomial(exp(eqn.quads()[4]*u_ij).simplify_full() ,1)/u_ij )) # check that Q is multi-affine version of quad\n",
    "print(expand( shiftk(quad) + polynomial(exp(eqn.quads()[3]*u_k).simplify_full() ,1)/u_k ))\n",
    "eqn.Q = quad\n",
    "\n",
    "eqn = Q3_0t\n",
    "print(eqn.name)\n",
    "quad = -sinh(a_i-a_j)*(e^u*e^u_ij + e^u_i*e^u_j) + sinh(a_i)*(e^u*e^u_i + e^u_j*e^u_ij) - sinh(a_j)*(e^u*e^u_j + e^u_i*e^u_ij) # manually define Q\n",
    "quad = sageobj(quad._maxima_().exponentialize())\n",
    "t1 = expand( polynomial( exp(expand(eqn.quads()[4]) ).simplify_full() , 1)*exp(-u_ij)*exp(-a_i-a_j) )\n",
    "print( expand(2*quad + t1) )\n",
    "quadk = shiftk(quad)\n",
    "t1 = expand( polynomial( exp(expand(eqn.quads()[3]) ).simplify_full() , 1)*exp(-u_k)*exp(-a_i-a_j) )\n",
    "print( expand(2*quadk - t1) )\n",
    "eqn.Q = quad\n",
    "\n",
    "eqn = Q3_0asym\n",
    "print(eqn.name)\n",
    "quad = -sinh(a_i-a_j)*(e^u*e^u_ij + e^u_i*e^u_j) + sinh(a_i)*(e^u*e^u_i + e^u_j*e^u_ij) - sinh(a_j)*(e^u*e^u_j + e^u_i*e^u_ij) # manually define Q\n",
    "quad = sageobj(quad._maxima_().exponentialize())\n",
    "t1 = expand( polynomial( exp(expand(eqn.quads()[4]) ).simplify_full() , 1)*exp(-u_ij)*exp(-a_i-a_j) )\n",
    "print( expand(2*quad + t1) )\n",
    "quadk = shiftk(quad)\n",
    "t1 = expand( polynomial( exp(expand(eqn.quads()[3]) ).simplify_full() , 1)*exp(-u_k)*exp(-a_i-a_j) )\n",
    "print( expand(2*quadk - t1) )\n",
    "eqn.Q = quad\n",
    "\n",
    "eqn = Q3_1\n",
    "print(eqn.name)\n",
    "quad = -(a_i^2-a_j^2)*(u*u_ij + u_i*u_j) + a_j*(a_i^2-1)*(u*u_i + u_j*u_ij) - a_i*(a_j^2-1)*(u*u_j + u_i*u_ij) - (a_j^2-a_i^2)*(a_i^2-1)*(a_j^2-1)/a_i/a_j # manually define Q\n",
    "eqn.Q = quad\n",
    "\n",
    "eqn = Q3_1t\n",
    "print(eqn.name)\n",
    "quad = -sinh(a_i-a_j)*(cosh(u)*cosh(u_ij) + cosh(u_i)*cosh(u_j)) \n",
    "quad += sinh(a_i)*(cosh(u)*cosh(u_i) + cosh(u_j)*cosh(u_ij)) \n",
    "quad += -sinh(a_j)*(cosh(u)*cosh(u_j) + cosh(u_i)*cosh(u_ij))\n",
    "quad += -sinh(a_i-a_j)*sinh(a_i)*sinh(a_j) # manually define Q\n",
    "t1 = expand( 16*quad*sinh(u_ij) )\n",
    "t1 = expand( sageobj(t1._maxima_().exponentialize()) )\n",
    "t2 = expand(polynomial( exp(eqn.quads()[4]).simplify_full() , 1)/exp(u+u_i+u_j+3*u_ij+2*a_i+2*a_j))\n",
    "print(expand( t1 - t2 ))\n",
    "t1 = expand( 16*shiftk(quad)*sinh(u_k) )\n",
    "t1 = expand( sageobj(t1._maxima_().exponentialize()) )\n",
    "t2 = expand(polynomial( exp(eqn.quads()[3]).simplify_full() , 1)/exp(3*u_k+u_ik+u_jk+u_ijk+2*a_i+2*a_j))\n",
    "print(expand( t1 + t2 ))\n",
    "eqn.Q = quad\n",
    "\n",
    "eqn = Q3_1asym\n",
    "print(eqn.name)\n",
    "quad = -sinh(a_i-a_j)*(cosh(u)*cosh(u_ij) + cosh(u_i)*cosh(u_j)) \n",
    "quad += sinh(a_i)*(cosh(u)*cosh(u_i) + cosh(u_j)*cosh(u_ij)) \n",
    "quad += -sinh(a_j)*(cosh(u)*cosh(u_j) + cosh(u_i)*cosh(u_ij))\n",
    "quad += -sinh(a_i-a_j)*sinh(a_i)*sinh(a_j) # manually define Q\n",
    "t1 = expand( 16*quad*sinh(u_ij) )\n",
    "t1 = expand( sageobj(t1._maxima_().exponentialize()) )\n",
    "t2 = expand(polynomial( exp(eqn.quads()[4]).simplify_full() , 1)/exp(u+u_i+u_j+3*u_ij+2*a_i+2*a_j))\n",
    "print(expand( t1 - t2 ))\n",
    "t1 = expand( 16*shiftk(quad)*sinh(u_k) )\n",
    "t1 = expand( sageobj(t1._maxima_().exponentialize()) )\n",
    "t2 = expand(polynomial( exp(eqn.quads()[3]).simplify_full() , 1)/exp(3*u_k+u_ik+u_jk+u_ijk+2*a_i+2*a_j))\n",
    "print(expand( t1 + t2 ))\n",
    "eqn.Q = quad\n",
    "\n",
    "eqn = Q4\n",
    "print(eqn.name)\n",
    "var(\"a,b,c,A,B,C\")\n",
    "quad =  A*( (u-b)*(u_j-b) - (a-b)*(c-b) ) * ( (u_i-b)*(u_ij-b) - (a-b)*(c-b) )\n",
    "quad += B*( (u-a)*(u_i-a) - (b-a)*(c-a) ) * ( (u_j-a)*(u_ij-a) - (b-a)*(c-a) ) - A*B*C*(a-b)\n",
    "eqn.Q = quad\n",
    "\n",
    "eqn = A1_0\n",
    "print(eqn.name)\n",
    "quad = a_i*(u*u_i + u_j*u_ij) - a_j*(u*u_j + u_i*u_ij) + (a_i-a_j)*(u_i*u_j + u*u_ij) # manually define Q\n",
    "print(expand(2*quad + polynomial( eqn.quads()[4]) )) # check that Q is multi-affine version of quad\n",
    "print(expand( shiftk(2*quad) - polynomial( eqn.quads()[3]) ))\n",
    "eqn.Q = quad\n",
    "\n",
    "eqn = A1_0asym\n",
    "print(eqn.name)\n",
    "quad = a_i*(u*u_i + u_j*u_ij) - a_j*(u*u_j + u_i*u_ij) + (a_i-a_j)*(u_i*u_j + u*u_ij) # manually define Q\n",
    "print(expand(quad + polynomial( eqn.quads()[4]) )) # check that Q is multi-affine version of quad\n",
    "print(expand( shiftk(quad) - polynomial( eqn.quads()[3]) ))\n",
    "eqn.Q = quad\n",
    "\n",
    "eqn = A1_1\n",
    "print(eqn.name)\n",
    "quad = a_i*(u*u_i + u_j*u_ij) - a_j*(u*u_j + u_i*u_ij) + (a_i-a_j)*(u_i*u_j + u*u_ij) - a_i*a_j*(a_i-a_j) # manually define Q\n",
    "print(expand(quad - polynomial(exp(eqn.quads()[4]).simplify_full(),1)/2 )) # check that Q is multi-affine version of quad\n",
    "print(expand( shiftk(quad) - polynomial(exp(eqn.quads()[3]).simplify_full(),1)/2 ))\n",
    "eqn.Q = quad\n",
    "\n",
    "eqn = A1_1asym\n",
    "print(eqn.name)\n",
    "quad = a_i*(u*u_i + u_j*u_ij) - a_j*(u*u_j + u_i*u_ij) + (a_i-a_j)*(u_i*u_j + u*u_ij) - a_i*a_j*(a_i-a_j) # manually define Q\n",
    "print(expand(quad - polynomial(exp(eqn.quads()[4]).simplify_full(),1)/2 )) # check that Q is multi-affine version of quad\n",
    "print(expand( shiftk(quad) - polynomial(exp(eqn.quads()[3]).simplify_full(),1)/2 ))\n",
    "eqn.Q = quad\n",
    "\n",
    "eqn = A2\n",
    "print(eqn.name)\n",
    "quad = -(a_i^2-a_j^2)*(1+u*u_i*u_j*u_ij) - a_i*(a_j^2-1)*(u*u_i + u_j*u_ij) + a_j*(a_i^2-1)*(u*u_j + u_i*u_ij) # manually define Q\n",
    "t1 = expand( polynomial( exp(expand(eqn.quads()[4]*u_ij) ).simplify_full() , 1)/u_ij )\n",
    "print( expand(quad - t1) )\n",
    "t1 = expand( polynomial( exp(expand(eqn.quads()[3]*u_k) ).simplify_full() , 1)/u_k )\n",
    "print( expand(shiftk(quad) + t1) )\n",
    "eqn.Q = quad\n",
    "\n",
    "eqn = A2t\n",
    "print(eqn.name)\n",
    "quad = -sinh(a_i-a_j)*(1+e^u*e^u_i*e^u_j*e^u_ij) - sinh(a_j)*(e^u*e^u_i + e^u_j*e^u_ij) + sinh(a_i)*(e^u*e^u_j + e^u_i*e^u_ij) # manually define Q\n",
    "quad = 2*sageobj(quad._maxima_().exponentialize())\n",
    "t1 = expand( polynomial( exp(expand(eqn.quads()[4]) ).simplify_full() , 1)*exp(-u_ij)*exp(-a_i-a_j) )\n",
    "print( expand(quad - t1) )\n",
    "quadk = shiftk(quad)\n",
    "t1 = expand( polynomial( exp(expand(eqn.quads()[3]) ).simplify_full() , 1)*exp(-u_k)*exp(-a_i-a_j) )\n",
    "print( expand(quadk + t1) )\n",
    "eqn.Q = quad\n",
    "\n",
    "eqn = A2asym\n",
    "print(eqn.name)\n",
    "quad = -sinh(a_i-a_j)*(1+e^u*e^u_i*e^u_j*e^u_ij) - sinh(a_j)*(e^u*e^u_i + e^u_j*e^u_ij) + sinh(a_i)*(e^u*e^u_j + e^u_i*e^u_ij) # manually define Q\n",
    "quad = 2*sageobj(quad._maxima_().exponentialize())\n",
    "t1 = expand( polynomial( exp(expand(eqn.quads()[4]) ).simplify_full() , 1)*exp(-u_ij)*exp(-a_i-a_j) )\n",
    "print( expand(quad - t1) )\n",
    "quadk = shiftk(quad)\n",
    "t1 = expand( polynomial( exp(expand(eqn.quads()[3]) ).simplify_full() , 1)*exp(-u_k)*exp(-a_i-a_j) )\n",
    "print( expand(quadk + t1) )\n",
    "eqn.Q = quad"
   ]
  },
  {
   "cell_type": "markdown",
   "metadata": {},
   "source": [
    "### Print the biquadratics for each equation of the ABS list"
   ]
  },
  {
   "cell_type": "code",
   "execution_count": 25,
   "metadata": {
    "scrolled": true
   },
   "outputs": [
    {
     "name": "stdout",
     "output_type": "stream",
     "text": [
      "H1\n"
     ]
    },
    {
     "data": {
      "text/html": [
       "<html><script type=\"math/tex; mode=display\">\\newcommand{\\Bold}[1]{\\mathbf{#1}}{\\left(u - u_{\\mathit{ij}}\\right)} {\\left(u_{i} - u_{j}\\right)} - a_{i} + a_{j}</script></html>"
      ],
      "text/plain": [
       "(u - u_ij)*(u_i - u_j) - a_i + a_j"
      ]
     },
     "metadata": {},
     "output_type": "display_data"
    },
    {
     "data": {
      "text/html": [
       "<html><script type=\"math/tex; mode=display\">\\newcommand{\\Bold}[1]{\\mathbf{#1}}1</script></html>"
      ],
      "text/plain": [
       "1"
      ]
     },
     "metadata": {},
     "output_type": "display_data"
    },
    {
     "data": {
      "text/html": [
       "<html><script type=\"math/tex; mode=display\">\\newcommand{\\Bold}[1]{\\mathbf{#1}}-\\frac{u^{2} - 2 \\, u u_{\\mathit{ij}} + u_{\\mathit{ij}}^{2}}{a_{i} - a_{j}}</script></html>"
      ],
      "text/plain": [
       "-(u^2 - 2*u*u_ij + u_ij^2)/(a_i - a_j)"
      ]
     },
     "metadata": {},
     "output_type": "display_data"
    },
    {
     "name": "stdout",
     "output_type": "stream",
     "text": [
      "\n",
      "H2\n"
     ]
    },
    {
     "data": {
      "text/html": [
       "<html><script type=\"math/tex; mode=display\">\\newcommand{\\Bold}[1]{\\mathbf{#1}}-a_{i}^{2} + a_{j}^{2} - {\\left(a_{i} - a_{j}\\right)} {\\left(u + u_{i} + u_{\\mathit{ij}} + u_{j}\\right)} + {\\left(u - u_{\\mathit{ij}}\\right)} {\\left(u_{i} - u_{j}\\right)}</script></html>"
      ],
      "text/plain": [
       "-a_i^2 + a_j^2 - (a_i - a_j)*(u + u_i + u_ij + u_j) + (u - u_ij)*(u_i - u_j)"
      ]
     },
     "metadata": {},
     "output_type": "display_data"
    },
    {
     "data": {
      "text/html": [
       "<html><script type=\"math/tex; mode=display\">\\newcommand{\\Bold}[1]{\\mathbf{#1}}a_{i} + u + u_{i}</script></html>"
      ],
      "text/plain": [
       "a_i + u + u_i"
      ]
     },
     "metadata": {},
     "output_type": "display_data"
    },
    {
     "data": {
      "text/html": [
       "<html><script type=\"math/tex; mode=display\">\\newcommand{\\Bold}[1]{\\mathbf{#1}}\\frac{a_{i}^{2} - 2 \\, a_{i} a_{j} + a_{j}^{2} - u^{2} + 2 \\, u u_{\\mathit{ij}} - u_{\\mathit{ij}}^{2}}{2 \\, {\\left(a_{i} - a_{j}\\right)}}</script></html>"
      ],
      "text/plain": [
       "1/2*(a_i^2 - 2*a_i*a_j + a_j^2 - u^2 + 2*u*u_ij - u_ij^2)/(a_i - a_j)"
      ]
     },
     "metadata": {},
     "output_type": "display_data"
    },
    {
     "name": "stdout",
     "output_type": "stream",
     "text": [
      "\n",
      "H3_0\n"
     ]
    },
    {
     "data": {
      "text/html": [
       "<html><script type=\"math/tex; mode=display\">\\newcommand{\\Bold}[1]{\\mathbf{#1}}{\\left(u u_{i} + u_{\\mathit{ij}} u_{j}\\right)} a_{i} - {\\left(u_{i} u_{\\mathit{ij}} + u u_{j}\\right)} a_{j}</script></html>"
      ],
      "text/plain": [
       "(u*u_i + u_ij*u_j)*a_i - (u_i*u_ij + u*u_j)*a_j"
      ]
     },
     "metadata": {},
     "output_type": "display_data"
    },
    {
     "data": {
      "text/html": [
       "<html><script type=\"math/tex; mode=display\">\\newcommand{\\Bold}[1]{\\mathbf{#1}}u u_{i}</script></html>"
      ],
      "text/plain": [
       "u*u_i"
      ]
     },
     "metadata": {},
     "output_type": "display_data"
    },
    {
     "data": {
      "text/html": [
       "<html><script type=\"math/tex; mode=display\">\\newcommand{\\Bold}[1]{\\mathbf{#1}}\\frac{a_{i} a_{j} u^{2} + a_{i} a_{j} u_{\\mathit{ij}}^{2} - {\\left(a_{i}^{2} + a_{j}^{2}\\right)} u u_{\\mathit{ij}}}{a_{i}^{2} - a_{j}^{2}}</script></html>"
      ],
      "text/plain": [
       "(a_i*a_j*u^2 + a_i*a_j*u_ij^2 - (a_i^2 + a_j^2)*u*u_ij)/(a_i^2 - a_j^2)"
      ]
     },
     "metadata": {},
     "output_type": "display_data"
    },
    {
     "name": "stdout",
     "output_type": "stream",
     "text": [
      "\n",
      "H3_1\n"
     ]
    },
    {
     "data": {
      "text/html": [
       "<html><script type=\"math/tex; mode=display\">\\newcommand{\\Bold}[1]{\\mathbf{#1}}{\\left(u u_{i} + u_{\\mathit{ij}} u_{j}\\right)} a_{i} + a_{i}^{2} - {\\left(u_{i} u_{\\mathit{ij}} + u u_{j}\\right)} a_{j} - a_{j}^{2}</script></html>"
      ],
      "text/plain": [
       "(u*u_i + u_ij*u_j)*a_i + a_i^2 - (u_i*u_ij + u*u_j)*a_j - a_j^2"
      ]
     },
     "metadata": {},
     "output_type": "display_data"
    },
    {
     "data": {
      "text/html": [
       "<html><script type=\"math/tex; mode=display\">\\newcommand{\\Bold}[1]{\\mathbf{#1}}u u_{i} + a_{i}</script></html>"
      ],
      "text/plain": [
       "u*u_i + a_i"
      ]
     },
     "metadata": {},
     "output_type": "display_data"
    },
    {
     "data": {
      "text/html": [
       "<html><script type=\"math/tex; mode=display\">\\newcommand{\\Bold}[1]{\\mathbf{#1}}\\frac{a_{i} a_{j} u^{2} + a_{i} a_{j} u_{\\mathit{ij}}^{2} - {\\left(a_{i}^{2} + a_{j}^{2}\\right)} u u_{\\mathit{ij}}}{a_{i}^{2} - a_{j}^{2}}</script></html>"
      ],
      "text/plain": [
       "(a_i*a_j*u^2 + a_i*a_j*u_ij^2 - (a_i^2 + a_j^2)*u*u_ij)/(a_i^2 - a_j^2)"
      ]
     },
     "metadata": {},
     "output_type": "display_data"
    },
    {
     "name": "stdout",
     "output_type": "stream",
     "text": [
      "\n",
      "Q1_0\n"
     ]
    },
    {
     "data": {
      "text/html": [
       "<html><script type=\"math/tex; mode=display\">\\newcommand{\\Bold}[1]{\\mathbf{#1}}a_{i} {\\left(u - u_{j}\\right)} {\\left(u_{i} - u_{\\mathit{ij}}\\right)} + a_{j} {\\left(u - u_{i}\\right)} {\\left(u_{\\mathit{ij}} - u_{j}\\right)}</script></html>"
      ],
      "text/plain": [
       "a_i*(u - u_j)*(u_i - u_ij) + a_j*(u - u_i)*(u_ij - u_j)"
      ]
     },
     "metadata": {},
     "output_type": "display_data"
    },
    {
     "data": {
      "text/html": [
       "<html><script type=\"math/tex; mode=display\">\\newcommand{\\Bold}[1]{\\mathbf{#1}}-\\frac{u^{2} - 2 \\, u u_{i} + u_{i}^{2}}{a_{i}}</script></html>"
      ],
      "text/plain": [
       "-(u^2 - 2*u*u_i + u_i^2)/a_i"
      ]
     },
     "metadata": {},
     "output_type": "display_data"
    },
    {
     "data": {
      "text/html": [
       "<html><script type=\"math/tex; mode=display\">\\newcommand{\\Bold}[1]{\\mathbf{#1}}\\frac{u^{2} - 2 \\, u u_{\\mathit{ij}} + u_{\\mathit{ij}}^{2}}{a_{i} - a_{j}}</script></html>"
      ],
      "text/plain": [
       "(u^2 - 2*u*u_ij + u_ij^2)/(a_i - a_j)"
      ]
     },
     "metadata": {},
     "output_type": "display_data"
    },
    {
     "name": "stdout",
     "output_type": "stream",
     "text": [
      "\n",
      "Q1_1\n"
     ]
    },
    {
     "data": {
      "text/html": [
       "<html><script type=\"math/tex; mode=display\">\\newcommand{\\Bold}[1]{\\mathbf{#1}}{\\left(a_{i} - a_{j}\\right)} a_{i} a_{j} + a_{i} {\\left(u - u_{j}\\right)} {\\left(u_{i} - u_{\\mathit{ij}}\\right)} + a_{j} {\\left(u - u_{i}\\right)} {\\left(u_{\\mathit{ij}} - u_{j}\\right)}</script></html>"
      ],
      "text/plain": [
       "(a_i - a_j)*a_i*a_j + a_i*(u - u_j)*(u_i - u_ij) + a_j*(u - u_i)*(u_ij - u_j)"
      ]
     },
     "metadata": {},
     "output_type": "display_data"
    },
    {
     "data": {
      "text/html": [
       "<html><script type=\"math/tex; mode=display\">\\newcommand{\\Bold}[1]{\\mathbf{#1}}-\\frac{a_{i}^{2} - u^{2} + 2 \\, u u_{i} - u_{i}^{2}}{a_{i}}</script></html>"
      ],
      "text/plain": [
       "-(a_i^2 - u^2 + 2*u*u_i - u_i^2)/a_i"
      ]
     },
     "metadata": {},
     "output_type": "display_data"
    },
    {
     "data": {
      "text/html": [
       "<html><script type=\"math/tex; mode=display\">\\newcommand{\\Bold}[1]{\\mathbf{#1}}\\frac{a_{i}^{2} - 2 \\, a_{i} a_{j} + a_{j}^{2} - u^{2} + 2 \\, u u_{\\mathit{ij}} - u_{\\mathit{ij}}^{2}}{a_{i} - a_{j}}</script></html>"
      ],
      "text/plain": [
       "(a_i^2 - 2*a_i*a_j + a_j^2 - u^2 + 2*u*u_ij - u_ij^2)/(a_i - a_j)"
      ]
     },
     "metadata": {},
     "output_type": "display_data"
    },
    {
     "name": "stdout",
     "output_type": "stream",
     "text": [
      "\n",
      "Q2\n"
     ]
    },
    {
     "data": {
      "text/html": [
       "<html><script type=\"math/tex; mode=display\">\\newcommand{\\Bold}[1]{\\mathbf{#1}}-{\\left(a_{i}^{2} - a_{i} a_{j} + a_{j}^{2} - u - u_{i} - u_{\\mathit{ij}} - u_{j}\\right)} {\\left(a_{i} - a_{j}\\right)} a_{i} a_{j} + a_{i} {\\left(u - u_{j}\\right)} {\\left(u_{i} - u_{\\mathit{ij}}\\right)} + a_{j} {\\left(u - u_{i}\\right)} {\\left(u_{\\mathit{ij}} - u_{j}\\right)}</script></html>"
      ],
      "text/plain": [
       "-(a_i^2 - a_i*a_j + a_j^2 - u - u_i - u_ij - u_j)*(a_i - a_j)*a_i*a_j + a_i*(u - u_j)*(u_i - u_ij) + a_j*(u - u_i)*(u_ij - u_j)"
      ]
     },
     "metadata": {},
     "output_type": "display_data"
    },
    {
     "data": {
      "text/html": [
       "<html><script type=\"math/tex; mode=display\">\\newcommand{\\Bold}[1]{\\mathbf{#1}}\\frac{a_{i}^{4} - 2 \\, a_{i}^{2} u + u^{2} - 2 \\, {\\left(a_{i}^{2} + u\\right)} u_{i} + u_{i}^{2}}{a_{i}}</script></html>"
      ],
      "text/plain": [
       "(a_i^4 - 2*a_i^2*u + u^2 - 2*(a_i^2 + u)*u_i + u_i^2)/a_i"
      ]
     },
     "metadata": {},
     "output_type": "display_data"
    },
    {
     "data": {
      "text/html": [
       "<html><script type=\"math/tex; mode=display\">\\newcommand{\\Bold}[1]{\\mathbf{#1}}-\\frac{a_{i}^{4} - 4 \\, a_{i}^{3} a_{j} + 6 \\, a_{i}^{2} a_{j}^{2} - 4 \\, a_{i} a_{j}^{3} + a_{j}^{4} - 2 \\, {\\left(a_{i}^{2} - 2 \\, a_{i} a_{j} + a_{j}^{2}\\right)} u + u^{2} - 2 \\, {\\left(a_{i}^{2} - 2 \\, a_{i} a_{j} + a_{j}^{2} + u\\right)} u_{\\mathit{ij}} + u_{\\mathit{ij}}^{2}}{a_{i} - a_{j}}</script></html>"
      ],
      "text/plain": [
       "-(a_i^4 - 4*a_i^3*a_j + 6*a_i^2*a_j^2 - 4*a_i*a_j^3 + a_j^4 - 2*(a_i^2 - 2*a_i*a_j + a_j^2)*u + u^2 - 2*(a_i^2 - 2*a_i*a_j + a_j^2 + u)*u_ij + u_ij^2)/(a_i - a_j)"
      ]
     },
     "metadata": {},
     "output_type": "display_data"
    },
    {
     "name": "stdout",
     "output_type": "stream",
     "text": [
      "\n",
      "Q3_0\n"
     ]
    },
    {
     "data": {
      "text/html": [
       "<html><script type=\"math/tex; mode=display\">\\newcommand{\\Bold}[1]{\\mathbf{#1}}-{\\left(a_{j}^{2} - 1\\right)} {\\left(u_{i} u_{\\mathit{ij}} + u u_{j}\\right)} a_{i} + {\\left(a_{i}^{2} - 1\\right)} {\\left(u u_{i} + u_{\\mathit{ij}} u_{j}\\right)} a_{j} - {\\left(a_{i}^{2} - a_{j}^{2}\\right)} {\\left(u u_{\\mathit{ij}} + u_{i} u_{j}\\right)}</script></html>"
      ],
      "text/plain": [
       "-(a_j^2 - 1)*(u_i*u_ij + u*u_j)*a_i + (a_i^2 - 1)*(u*u_i + u_ij*u_j)*a_j - (a_i^2 - a_j^2)*(u*u_ij + u_i*u_j)"
      ]
     },
     "metadata": {},
     "output_type": "display_data"
    },
    {
     "data": {
      "text/html": [
       "<html><script type=\"math/tex; mode=display\">\\newcommand{\\Bold}[1]{\\mathbf{#1}}-\\frac{a_{i} u^{2} - {\\left(a_{i}^{2} + 1\\right)} u u_{i} + a_{i} u_{i}^{2}}{a_{i}^{2} - 1}</script></html>"
      ],
      "text/plain": [
       "-(a_i*u^2 - (a_i^2 + 1)*u*u_i + a_i*u_i^2)/(a_i^2 - 1)"
      ]
     },
     "metadata": {},
     "output_type": "display_data"
    },
    {
     "data": {
      "text/html": [
       "<html><script type=\"math/tex; mode=display\">\\newcommand{\\Bold}[1]{\\mathbf{#1}}\\frac{a_{i} a_{j} u^{2} + a_{i} a_{j} u_{\\mathit{ij}}^{2} - {\\left(a_{i}^{2} + a_{j}^{2}\\right)} u u_{\\mathit{ij}}}{a_{i}^{2} - a_{j}^{2}}</script></html>"
      ],
      "text/plain": [
       "(a_i*a_j*u^2 + a_i*a_j*u_ij^2 - (a_i^2 + a_j^2)*u*u_ij)/(a_i^2 - a_j^2)"
      ]
     },
     "metadata": {},
     "output_type": "display_data"
    },
    {
     "name": "stdout",
     "output_type": "stream",
     "text": [
      "\n",
      "Q3_1\n"
     ]
    },
    {
     "data": {
      "text/html": [
       "<html><script type=\"math/tex; mode=display\">\\newcommand{\\Bold}[1]{\\mathbf{#1}}-{\\left(a_{j}^{2} - 1\\right)} {\\left(u_{i} u_{\\mathit{ij}} + u u_{j}\\right)} a_{i} + {\\left(a_{i}^{2} - 1\\right)} {\\left(u u_{i} + u_{\\mathit{ij}} u_{j}\\right)} a_{j} - {\\left(a_{i}^{2} - a_{j}^{2}\\right)} {\\left(u u_{\\mathit{ij}} + u_{i} u_{j}\\right)} + \\frac{{\\left(a_{i}^{2} - a_{j}^{2}\\right)} {\\left(a_{i}^{2} - 1\\right)} {\\left(a_{j}^{2} - 1\\right)}}{a_{i} a_{j}}</script></html>"
      ],
      "text/plain": [
       "-(a_j^2 - 1)*(u_i*u_ij + u*u_j)*a_i + (a_i^2 - 1)*(u*u_i + u_ij*u_j)*a_j - (a_i^2 - a_j^2)*(u*u_ij + u_i*u_j) + (a_i^2 - a_j^2)*(a_i^2 - 1)*(a_j^2 - 1)/(a_i*a_j)"
      ]
     },
     "metadata": {},
     "output_type": "display_data"
    },
    {
     "data": {
      "text/html": [
       "<html><script type=\"math/tex; mode=display\">\\newcommand{\\Bold}[1]{\\mathbf{#1}}\\frac{a_{i}^{4} - a_{i}^{2} u^{2} - a_{i}^{2} u_{i}^{2} + {\\left(a_{i}^{3} + a_{i}\\right)} u u_{i} - 2 \\, a_{i}^{2} + 1}{a_{i}^{3} - a_{i}}</script></html>"
      ],
      "text/plain": [
       "(a_i^4 - a_i^2*u^2 - a_i^2*u_i^2 + (a_i^3 + a_i)*u*u_i - 2*a_i^2 + 1)/(a_i^3 - a_i)"
      ]
     },
     "metadata": {},
     "output_type": "display_data"
    },
    {
     "data": {
      "text/html": [
       "<html><script type=\"math/tex; mode=display\">\\newcommand{\\Bold}[1]{\\mathbf{#1}}\\frac{a_{i}^{2} a_{j}^{2} u^{2} + a_{i}^{2} a_{j}^{2} u_{\\mathit{ij}}^{2} - a_{i}^{4} + 2 \\, a_{i}^{2} a_{j}^{2} - a_{j}^{4} - {\\left(a_{i}^{3} a_{j} + a_{i} a_{j}^{3}\\right)} u u_{\\mathit{ij}}}{a_{i}^{3} a_{j} - a_{i} a_{j}^{3}}</script></html>"
      ],
      "text/plain": [
       "(a_i^2*a_j^2*u^2 + a_i^2*a_j^2*u_ij^2 - a_i^4 + 2*a_i^2*a_j^2 - a_j^4 - (a_i^3*a_j + a_i*a_j^3)*u*u_ij)/(a_i^3*a_j - a_i*a_j^3)"
      ]
     },
     "metadata": {},
     "output_type": "display_data"
    },
    {
     "name": "stdout",
     "output_type": "stream",
     "text": [
      "\n",
      "A1_0\n"
     ]
    },
    {
     "data": {
      "text/html": [
       "<html><script type=\"math/tex; mode=display\">\\newcommand{\\Bold}[1]{\\mathbf{#1}}{\\left(u u_{\\mathit{ij}} + u_{i} u_{j}\\right)} {\\left(a_{i} - a_{j}\\right)} + {\\left(u u_{i} + u_{\\mathit{ij}} u_{j}\\right)} a_{i} - {\\left(u_{i} u_{\\mathit{ij}} + u u_{j}\\right)} a_{j}</script></html>"
      ],
      "text/plain": [
       "(u*u_ij + u_i*u_j)*(a_i - a_j) + (u*u_i + u_ij*u_j)*a_i - (u_i*u_ij + u*u_j)*a_j"
      ]
     },
     "metadata": {},
     "output_type": "display_data"
    },
    {
     "data": {
      "text/html": [
       "<html><script type=\"math/tex; mode=display\">\\newcommand{\\Bold}[1]{\\mathbf{#1}}\\frac{u^{2} + 2 \\, u u_{i} + u_{i}^{2}}{a_{i}}</script></html>"
      ],
      "text/plain": [
       "(u^2 + 2*u*u_i + u_i^2)/a_i"
      ]
     },
     "metadata": {},
     "output_type": "display_data"
    },
    {
     "data": {
      "text/html": [
       "<html><script type=\"math/tex; mode=display\">\\newcommand{\\Bold}[1]{\\mathbf{#1}}\\frac{u^{2} - 2 \\, u u_{\\mathit{ij}} + u_{\\mathit{ij}}^{2}}{a_{i} - a_{j}}</script></html>"
      ],
      "text/plain": [
       "(u^2 - 2*u*u_ij + u_ij^2)/(a_i - a_j)"
      ]
     },
     "metadata": {},
     "output_type": "display_data"
    },
    {
     "name": "stdout",
     "output_type": "stream",
     "text": [
      "\n",
      "A1_1\n"
     ]
    },
    {
     "data": {
      "text/html": [
       "<html><script type=\"math/tex; mode=display\">\\newcommand{\\Bold}[1]{\\mathbf{#1}}-{\\left(a_{i} - a_{j}\\right)} a_{i} a_{j} + {\\left(u u_{\\mathit{ij}} + u_{i} u_{j}\\right)} {\\left(a_{i} - a_{j}\\right)} + {\\left(u u_{i} + u_{\\mathit{ij}} u_{j}\\right)} a_{i} - {\\left(u_{i} u_{\\mathit{ij}} + u u_{j}\\right)} a_{j}</script></html>"
      ],
      "text/plain": [
       "-(a_i - a_j)*a_i*a_j + (u*u_ij + u_i*u_j)*(a_i - a_j) + (u*u_i + u_ij*u_j)*a_i - (u_i*u_ij + u*u_j)*a_j"
      ]
     },
     "metadata": {},
     "output_type": "display_data"
    },
    {
     "data": {
      "text/html": [
       "<html><script type=\"math/tex; mode=display\">\\newcommand{\\Bold}[1]{\\mathbf{#1}}-\\frac{a_{i}^{2} - u^{2} - 2 \\, u u_{i} - u_{i}^{2}}{a_{i}}</script></html>"
      ],
      "text/plain": [
       "-(a_i^2 - u^2 - 2*u*u_i - u_i^2)/a_i"
      ]
     },
     "metadata": {},
     "output_type": "display_data"
    },
    {
     "data": {
      "text/html": [
       "<html><script type=\"math/tex; mode=display\">\\newcommand{\\Bold}[1]{\\mathbf{#1}}-\\frac{a_{i}^{2} - 2 \\, a_{i} a_{j} + a_{j}^{2} - u^{2} + 2 \\, u u_{\\mathit{ij}} - u_{\\mathit{ij}}^{2}}{a_{i} - a_{j}}</script></html>"
      ],
      "text/plain": [
       "-(a_i^2 - 2*a_i*a_j + a_j^2 - u^2 + 2*u*u_ij - u_ij^2)/(a_i - a_j)"
      ]
     },
     "metadata": {},
     "output_type": "display_data"
    },
    {
     "name": "stdout",
     "output_type": "stream",
     "text": [
      "\n",
      "A2\n"
     ]
    },
    {
     "data": {
      "text/html": [
       "<html><script type=\"math/tex; mode=display\">\\newcommand{\\Bold}[1]{\\mathbf{#1}}-{\\left(a_{j}^{2} - 1\\right)} {\\left(u u_{i} + u_{\\mathit{ij}} u_{j}\\right)} a_{i} + {\\left(a_{i}^{2} - 1\\right)} {\\left(u_{i} u_{\\mathit{ij}} + u u_{j}\\right)} a_{j} - {\\left(u u_{i} u_{\\mathit{ij}} u_{j} + 1\\right)} {\\left(a_{i}^{2} - a_{j}^{2}\\right)}</script></html>"
      ],
      "text/plain": [
       "-(a_j^2 - 1)*(u*u_i + u_ij*u_j)*a_i + (a_i^2 - 1)*(u_i*u_ij + u*u_j)*a_j - (u*u_i*u_ij*u_j + 1)*(a_i^2 - a_j^2)"
      ]
     },
     "metadata": {},
     "output_type": "display_data"
    },
    {
     "data": {
      "text/html": [
       "<html><script type=\"math/tex; mode=display\">\\newcommand{\\Bold}[1]{\\mathbf{#1}}\\frac{a_{i} u^{2} u_{i}^{2} - {\\left(a_{i}^{2} + 1\\right)} u u_{i} + a_{i}}{a_{i}^{2} - 1}</script></html>"
      ],
      "text/plain": [
       "(a_i*u^2*u_i^2 - (a_i^2 + 1)*u*u_i + a_i)/(a_i^2 - 1)"
      ]
     },
     "metadata": {},
     "output_type": "display_data"
    },
    {
     "data": {
      "text/html": [
       "<html><script type=\"math/tex; mode=display\">\\newcommand{\\Bold}[1]{\\mathbf{#1}}\\frac{a_{i} a_{j} u^{2} + a_{i} a_{j} u_{\\mathit{ij}}^{2} - {\\left(a_{i}^{2} + a_{j}^{2}\\right)} u u_{\\mathit{ij}}}{a_{i}^{2} - a_{j}^{2}}</script></html>"
      ],
      "text/plain": [
       "(a_i*a_j*u^2 + a_i*a_j*u_ij^2 - (a_i^2 + a_j^2)*u*u_ij)/(a_i^2 - a_j^2)"
      ]
     },
     "metadata": {},
     "output_type": "display_data"
    },
    {
     "name": "stdout",
     "output_type": "stream",
     "text": [
      "\n"
     ]
    }
   ],
   "source": [
    "klist = {\"H1\": -1/(a_i-a_j), \"H2\": -1/2/(a_i-a_j), \"H3_0\": 1/(a_i^2-a_j^2), \"H3_1\": 1/(a_i^2-a_j^2), \n",
    "         \"Q1_0\": 1/(a_i-a_j)/a_i/a_j, \"Q1_1\": -1/(a_i-a_j)/a_i/a_j, \"Q2\": -1/(a_i-a_j)/a_i/a_j,\n",
    "         \"Q3_0\": 1/(a_i^2-a_j^2)/(a_i^2-1)/(a_j^2-1), \"Q3_1\": 1/(a_i^2-a_j^2)/(a_i^2-1)/(a_j^2-1),\n",
    "         \"A1_0\": 1/(a_i-a_j)/a_i/a_j, \"A1_1\": 1/(a_i-a_j)/a_i/a_j, \"A2\": 1/(a_i^2-a_j^2)/(a_i^2-1)/(a_j^2-1)}\n",
    "\n",
    "for eq in affABSlist:\n",
    "    print(eq.name)\n",
    "    show(eq.affinequads()[4])\n",
    "    show(eq.biquadratic(u_j,u_ij).simplify_rational())\n",
    "    show(eq.biquadratic(u_j,u_i).simplify_rational())\n",
    "    print()"
   ]
  },
  {
   "cell_type": "markdown",
   "metadata": {},
   "source": [
    "### Print the leg functions and Lagrangians for each equation of the ABS list"
   ]
  },
  {
   "cell_type": "code",
   "execution_count": 26,
   "metadata": {
    "scrolled": true
   },
   "outputs": [
    {
     "name": "stdout",
     "output_type": "stream",
     "text": [
      "H1asym\n"
     ]
    },
    {
     "data": {
      "text/html": [
       "<html><script type=\"math/tex; mode=display\">\\newcommand{\\Bold}[1]{\\mathbf{#1}}u_{i}</script></html>"
      ],
      "text/plain": [
       "u_i"
      ]
     },
     "metadata": {},
     "output_type": "display_data"
    },
    {
     "data": {
      "text/html": [
       "<html><script type=\"math/tex; mode=display\">\\newcommand{\\Bold}[1]{\\mathbf{#1}}\\frac{a_{i} - a_{j}}{u - u_{\\mathit{ij}}}</script></html>"
      ],
      "text/plain": [
       "(a_i - a_j)/(u - u_ij)"
      ]
     },
     "metadata": {},
     "output_type": "display_data"
    },
    {
     "data": {
      "text/html": [
       "<html><script type=\"math/tex; mode=display\">\\newcommand{\\Bold}[1]{\\mathbf{#1}}u u_{i}</script></html>"
      ],
      "text/plain": [
       "u*u_i"
      ]
     },
     "metadata": {},
     "output_type": "display_data"
    },
    {
     "data": {
      "text/html": [
       "<html><script type=\"math/tex; mode=display\">\\newcommand{\\Bold}[1]{\\mathbf{#1}}{\\left(a_{i} - a_{j}\\right)} \\log\\left(u - u_{\\mathit{ij}}\\right)</script></html>"
      ],
      "text/plain": [
       "(a_i - a_j)*log(u - u_ij)"
      ]
     },
     "metadata": {},
     "output_type": "display_data"
    },
    {
     "name": "stdout",
     "output_type": "stream",
     "text": [
      "\n",
      "H2asym\n"
     ]
    },
    {
     "data": {
      "text/html": [
       "<html><script type=\"math/tex; mode=display\">\\newcommand{\\Bold}[1]{\\mathbf{#1}}\\log\\left(a_{i} + u + u_{i}\\right) + 1</script></html>"
      ],
      "text/plain": [
       "log(a_i + u + u_i) + 1"
      ]
     },
     "metadata": {},
     "output_type": "display_data"
    },
    {
     "data": {
      "text/html": [
       "<html><script type=\"math/tex; mode=display\">\\newcommand{\\Bold}[1]{\\mathbf{#1}}\\log\\left(a_{i} - a_{j} + u - u_{\\mathit{ij}}\\right) - \\log\\left(-a_{i} + a_{j} + u - u_{\\mathit{ij}}\\right)</script></html>"
      ],
      "text/plain": [
       "log(a_i - a_j + u - u_ij) - log(-a_i + a_j + u - u_ij)"
      ]
     },
     "metadata": {},
     "output_type": "display_data"
    },
    {
     "data": {
      "text/html": [
       "<html><script type=\"math/tex; mode=display\">\\newcommand{\\Bold}[1]{\\mathbf{#1}}{\\left(a_{i} + u + u_{i}\\right)} \\log\\left(a_{i} + u + u_{i}\\right)</script></html>"
      ],
      "text/plain": [
       "(a_i + u + u_i)*log(a_i + u + u_i)"
      ]
     },
     "metadata": {},
     "output_type": "display_data"
    },
    {
     "data": {
      "text/html": [
       "<html><script type=\"math/tex; mode=display\">\\newcommand{\\Bold}[1]{\\mathbf{#1}}{\\left(a_{i} - a_{j} + u - u_{\\mathit{ij}}\\right)} \\log\\left(a_{i} - a_{j} + u - u_{\\mathit{ij}}\\right) + {\\left(a_{i} - a_{j} - u + u_{\\mathit{ij}}\\right)} \\log\\left(-a_{i} + a_{j} + u - u_{\\mathit{ij}}\\right)</script></html>"
      ],
      "text/plain": [
       "(a_i - a_j + u - u_ij)*log(a_i - a_j + u - u_ij) + (a_i - a_j - u + u_ij)*log(-a_i + a_j + u - u_ij)"
      ]
     },
     "metadata": {},
     "output_type": "display_data"
    },
    {
     "name": "stdout",
     "output_type": "stream",
     "text": [
      "\n",
      "H3_0asym\n"
     ]
    },
    {
     "data": {
      "text/html": [
       "<html><script type=\"math/tex; mode=display\">\\newcommand{\\Bold}[1]{\\mathbf{#1}}-u_{i}</script></html>"
      ],
      "text/plain": [
       "-u_i"
      ]
     },
     "metadata": {},
     "output_type": "display_data"
    },
    {
     "data": {
      "text/html": [
       "<html><script type=\"math/tex; mode=display\">\\newcommand{\\Bold}[1]{\\mathbf{#1}}-a_{i} + a_{j} + \\log\\left(-e^{\\left(a_{i} - a_{j} + u - u_{\\mathit{ij}}\\right)} + 1\\right) - \\log\\left(-e^{\\left(-a_{i} + a_{j} + u - u_{\\mathit{ij}}\\right)} + 1\\right)</script></html>"
      ],
      "text/plain": [
       "-a_i + a_j + log(-e^(a_i - a_j + u - u_ij) + 1) - log(-e^(-a_i + a_j + u - u_ij) + 1)"
      ]
     },
     "metadata": {},
     "output_type": "display_data"
    },
    {
     "data": {
      "text/html": [
       "<html><script type=\"math/tex; mode=display\">\\newcommand{\\Bold}[1]{\\mathbf{#1}}-u u_{i}</script></html>"
      ],
      "text/plain": [
       "-u*u_i"
      ]
     },
     "metadata": {},
     "output_type": "display_data"
    },
    {
     "data": {
      "text/html": [
       "<html><script type=\"math/tex; mode=display\">\\newcommand{\\Bold}[1]{\\mathbf{#1}}-{\\left(a_{i} - a_{j}\\right)} {\\left(u - u_{\\mathit{ij}}\\right)} - {\\rm Li}_2\\left(e^{\\left(a_{i} - a_{j} + u - u_{\\mathit{ij}}\\right)}\\right) + {\\rm Li}_2\\left(e^{\\left(-a_{i} + a_{j} + u - u_{\\mathit{ij}}\\right)}\\right)</script></html>"
      ],
      "text/plain": [
       "-(a_i - a_j)*(u - u_ij) - dilog(e^(a_i - a_j + u - u_ij)) + dilog(e^(-a_i + a_j + u - u_ij))"
      ]
     },
     "metadata": {},
     "output_type": "display_data"
    },
    {
     "name": "stdout",
     "output_type": "stream",
     "text": [
      "\n",
      "H3_1asym\n"
     ]
    },
    {
     "data": {
      "text/html": [
       "<html><script type=\"math/tex; mode=display\">\\newcommand{\\Bold}[1]{\\mathbf{#1}}-a_{i} - \\log\\left(-e^{\\left(-a_{i} + u + u_{i}\\right)} + 1\\right)</script></html>"
      ],
      "text/plain": [
       "-a_i - log(-e^(-a_i + u + u_i) + 1)"
      ]
     },
     "metadata": {},
     "output_type": "display_data"
    },
    {
     "data": {
      "text/html": [
       "<html><script type=\"math/tex; mode=display\">\\newcommand{\\Bold}[1]{\\mathbf{#1}}-a_{i} + a_{j} + \\log\\left(-e^{\\left(a_{i} - a_{j} + u - u_{\\mathit{ij}}\\right)} + 1\\right) - \\log\\left(-e^{\\left(-a_{i} + a_{j} + u - u_{\\mathit{ij}}\\right)} + 1\\right)</script></html>"
      ],
      "text/plain": [
       "-a_i + a_j + log(-e^(a_i - a_j + u - u_ij) + 1) - log(-e^(-a_i + a_j + u - u_ij) + 1)"
      ]
     },
     "metadata": {},
     "output_type": "display_data"
    },
    {
     "data": {
      "text/html": [
       "<html><script type=\"math/tex; mode=display\">\\newcommand{\\Bold}[1]{\\mathbf{#1}}-a_{i} {\\left(u + u_{i}\\right)} + {\\rm Li}_2\\left(e^{\\left(-a_{i} + u + u_{i}\\right)}\\right)</script></html>"
      ],
      "text/plain": [
       "-a_i*(u + u_i) + dilog(e^(-a_i + u + u_i))"
      ]
     },
     "metadata": {},
     "output_type": "display_data"
    },
    {
     "data": {
      "text/html": [
       "<html><script type=\"math/tex; mode=display\">\\newcommand{\\Bold}[1]{\\mathbf{#1}}-{\\left(a_{i} - a_{j}\\right)} {\\left(u - u_{\\mathit{ij}}\\right)} - {\\rm Li}_2\\left(e^{\\left(a_{i} - a_{j} + u - u_{\\mathit{ij}}\\right)}\\right) + {\\rm Li}_2\\left(e^{\\left(-a_{i} + a_{j} + u - u_{\\mathit{ij}}\\right)}\\right)</script></html>"
      ],
      "text/plain": [
       "-(a_i - a_j)*(u - u_ij) - dilog(e^(a_i - a_j + u - u_ij)) + dilog(e^(-a_i + a_j + u - u_ij))"
      ]
     },
     "metadata": {},
     "output_type": "display_data"
    },
    {
     "name": "stdout",
     "output_type": "stream",
     "text": [
      "\n",
      "Q1_0asym\n"
     ]
    },
    {
     "data": {
      "text/html": [
       "<html><script type=\"math/tex; mode=display\">\\newcommand{\\Bold}[1]{\\mathbf{#1}}\\frac{a_{i}}{u - u_{i}}</script></html>"
      ],
      "text/plain": [
       "a_i/(u - u_i)"
      ]
     },
     "metadata": {},
     "output_type": "display_data"
    },
    {
     "data": {
      "text/html": [
       "<html><script type=\"math/tex; mode=display\">\\newcommand{\\Bold}[1]{\\mathbf{#1}}\\frac{a_{i} - a_{j}}{u - u_{\\mathit{ij}}}</script></html>"
      ],
      "text/plain": [
       "(a_i - a_j)/(u - u_ij)"
      ]
     },
     "metadata": {},
     "output_type": "display_data"
    },
    {
     "data": {
      "text/html": [
       "<html><script type=\"math/tex; mode=display\">\\newcommand{\\Bold}[1]{\\mathbf{#1}}a_{i} \\log\\left(u - u_{i}\\right)</script></html>"
      ],
      "text/plain": [
       "a_i*log(u - u_i)"
      ]
     },
     "metadata": {},
     "output_type": "display_data"
    },
    {
     "data": {
      "text/html": [
       "<html><script type=\"math/tex; mode=display\">\\newcommand{\\Bold}[1]{\\mathbf{#1}}{\\left(a_{i} - a_{j}\\right)} \\log\\left(u - u_{\\mathit{ij}}\\right)</script></html>"
      ],
      "text/plain": [
       "(a_i - a_j)*log(u - u_ij)"
      ]
     },
     "metadata": {},
     "output_type": "display_data"
    },
    {
     "name": "stdout",
     "output_type": "stream",
     "text": [
      "\n",
      "Q1_1asym\n"
     ]
    },
    {
     "data": {
      "text/html": [
       "<html><script type=\"math/tex; mode=display\">\\newcommand{\\Bold}[1]{\\mathbf{#1}}\\log\\left(a_{i} + u - u_{i}\\right) - \\log\\left(-a_{i} + u - u_{i}\\right)</script></html>"
      ],
      "text/plain": [
       "log(a_i + u - u_i) - log(-a_i + u - u_i)"
      ]
     },
     "metadata": {},
     "output_type": "display_data"
    },
    {
     "data": {
      "text/html": [
       "<html><script type=\"math/tex; mode=display\">\\newcommand{\\Bold}[1]{\\mathbf{#1}}\\log\\left(a_{i} - a_{j} + u - u_{\\mathit{ij}}\\right) - \\log\\left(-a_{i} + a_{j} + u - u_{\\mathit{ij}}\\right)</script></html>"
      ],
      "text/plain": [
       "log(a_i - a_j + u - u_ij) - log(-a_i + a_j + u - u_ij)"
      ]
     },
     "metadata": {},
     "output_type": "display_data"
    },
    {
     "data": {
      "text/html": [
       "<html><script type=\"math/tex; mode=display\">\\newcommand{\\Bold}[1]{\\mathbf{#1}}{\\left(a_{i} + u - u_{i}\\right)} \\log\\left(a_{i} + u - u_{i}\\right) + {\\left(a_{i} - u + u_{i}\\right)} \\log\\left(-a_{i} + u - u_{i}\\right)</script></html>"
      ],
      "text/plain": [
       "(a_i + u - u_i)*log(a_i + u - u_i) + (a_i - u + u_i)*log(-a_i + u - u_i)"
      ]
     },
     "metadata": {},
     "output_type": "display_data"
    },
    {
     "data": {
      "text/html": [
       "<html><script type=\"math/tex; mode=display\">\\newcommand{\\Bold}[1]{\\mathbf{#1}}{\\left(a_{i} - a_{j} + u - u_{\\mathit{ij}}\\right)} \\log\\left(a_{i} - a_{j} + u - u_{\\mathit{ij}}\\right) + {\\left(a_{i} - a_{j} - u + u_{\\mathit{ij}}\\right)} \\log\\left(-a_{i} + a_{j} + u - u_{\\mathit{ij}}\\right)</script></html>"
      ],
      "text/plain": [
       "(a_i - a_j + u - u_ij)*log(a_i - a_j + u - u_ij) + (a_i - a_j - u + u_ij)*log(-a_i + a_j + u - u_ij)"
      ]
     },
     "metadata": {},
     "output_type": "display_data"
    },
    {
     "name": "stdout",
     "output_type": "stream",
     "text": [
      "\n",
      "Q2asym\n"
     ]
    },
    {
     "data": {
      "text/html": [
       "<html><script type=\"math/tex; mode=display\">\\newcommand{\\Bold}[1]{\\mathbf{#1}}\\log\\left(a_{i} + u + u_{i}\\right) + \\log\\left(a_{i} + u - u_{i}\\right) - \\log\\left(-a_{i} + u + u_{i}\\right) - \\log\\left(-a_{i} + u - u_{i}\\right)</script></html>"
      ],
      "text/plain": [
       "log(a_i + u + u_i) + log(a_i + u - u_i) - log(-a_i + u + u_i) - log(-a_i + u - u_i)"
      ]
     },
     "metadata": {},
     "output_type": "display_data"
    },
    {
     "data": {
      "text/html": [
       "<html><script type=\"math/tex; mode=display\">\\newcommand{\\Bold}[1]{\\mathbf{#1}}\\log\\left(a_{i} - a_{j} + u + u_{\\mathit{ij}}\\right) + \\log\\left(a_{i} - a_{j} + u - u_{\\mathit{ij}}\\right) - \\log\\left(-a_{i} + a_{j} + u + u_{\\mathit{ij}}\\right) - \\log\\left(-a_{i} + a_{j} + u - u_{\\mathit{ij}}\\right)</script></html>"
      ],
      "text/plain": [
       "log(a_i - a_j + u + u_ij) + log(a_i - a_j + u - u_ij) - log(-a_i + a_j + u + u_ij) - log(-a_i + a_j + u - u_ij)"
      ]
     },
     "metadata": {},
     "output_type": "display_data"
    },
    {
     "data": {
      "text/html": [
       "<html><script type=\"math/tex; mode=display\">\\newcommand{\\Bold}[1]{\\mathbf{#1}}{\\left(a_{i} + u + u_{i}\\right)} \\log\\left(a_{i} + u + u_{i}\\right) + {\\left(a_{i} + u - u_{i}\\right)} \\log\\left(a_{i} + u - u_{i}\\right) + {\\left(a_{i} - u - u_{i}\\right)} \\log\\left(-a_{i} + u + u_{i}\\right) + {\\left(a_{i} - u + u_{i}\\right)} \\log\\left(-a_{i} + u - u_{i}\\right)</script></html>"
      ],
      "text/plain": [
       "(a_i + u + u_i)*log(a_i + u + u_i) + (a_i + u - u_i)*log(a_i + u - u_i) + (a_i - u - u_i)*log(-a_i + u + u_i) + (a_i - u + u_i)*log(-a_i + u - u_i)"
      ]
     },
     "metadata": {},
     "output_type": "display_data"
    },
    {
     "data": {
      "text/html": [
       "<html><script type=\"math/tex; mode=display\">\\newcommand{\\Bold}[1]{\\mathbf{#1}}{\\left(a_{i} - a_{j} + u + u_{\\mathit{ij}}\\right)} \\log\\left(a_{i} - a_{j} + u + u_{\\mathit{ij}}\\right) + {\\left(a_{i} - a_{j} + u - u_{\\mathit{ij}}\\right)} \\log\\left(a_{i} - a_{j} + u - u_{\\mathit{ij}}\\right) + {\\left(a_{i} - a_{j} - u - u_{\\mathit{ij}}\\right)} \\log\\left(-a_{i} + a_{j} + u + u_{\\mathit{ij}}\\right) + {\\left(a_{i} - a_{j} - u + u_{\\mathit{ij}}\\right)} \\log\\left(-a_{i} + a_{j} + u - u_{\\mathit{ij}}\\right)</script></html>"
      ],
      "text/plain": [
       "(a_i - a_j + u + u_ij)*log(a_i - a_j + u + u_ij) + (a_i - a_j + u - u_ij)*log(a_i - a_j + u - u_ij) + (a_i - a_j - u - u_ij)*log(-a_i + a_j + u + u_ij) + (a_i - a_j - u + u_ij)*log(-a_i + a_j + u - u_ij)"
      ]
     },
     "metadata": {},
     "output_type": "display_data"
    },
    {
     "name": "stdout",
     "output_type": "stream",
     "text": [
      "\n",
      "Q3_0asym\n"
     ]
    },
    {
     "data": {
      "text/html": [
       "<html><script type=\"math/tex; mode=display\">\\newcommand{\\Bold}[1]{\\mathbf{#1}}-a_{i} + \\log\\left(-e^{\\left(a_{i} + u - u_{i}\\right)} + 1\\right) - \\log\\left(-e^{\\left(-a_{i} + u - u_{i}\\right)} + 1\\right)</script></html>"
      ],
      "text/plain": [
       "-a_i + log(-e^(a_i + u - u_i) + 1) - log(-e^(-a_i + u - u_i) + 1)"
      ]
     },
     "metadata": {},
     "output_type": "display_data"
    },
    {
     "data": {
      "text/html": [
       "<html><script type=\"math/tex; mode=display\">\\newcommand{\\Bold}[1]{\\mathbf{#1}}-a_{i} + a_{j} + \\log\\left(-e^{\\left(a_{i} - a_{j} + u - u_{\\mathit{ij}}\\right)} + 1\\right) - \\log\\left(-e^{\\left(-a_{i} + a_{j} + u - u_{\\mathit{ij}}\\right)} + 1\\right)</script></html>"
      ],
      "text/plain": [
       "-a_i + a_j + log(-e^(a_i - a_j + u - u_ij) + 1) - log(-e^(-a_i + a_j + u - u_ij) + 1)"
      ]
     },
     "metadata": {},
     "output_type": "display_data"
    },
    {
     "data": {
      "text/html": [
       "<html><script type=\"math/tex; mode=display\">\\newcommand{\\Bold}[1]{\\mathbf{#1}}-a_{i} {\\left(u - u_{i}\\right)} - {\\rm Li}_2\\left(e^{\\left(a_{i} + u - u_{i}\\right)}\\right) + {\\rm Li}_2\\left(e^{\\left(-a_{i} + u - u_{i}\\right)}\\right)</script></html>"
      ],
      "text/plain": [
       "-a_i*(u - u_i) - dilog(e^(a_i + u - u_i)) + dilog(e^(-a_i + u - u_i))"
      ]
     },
     "metadata": {},
     "output_type": "display_data"
    },
    {
     "data": {
      "text/html": [
       "<html><script type=\"math/tex; mode=display\">\\newcommand{\\Bold}[1]{\\mathbf{#1}}-{\\left(a_{i} - a_{j}\\right)} {\\left(u - u_{\\mathit{ij}}\\right)} - {\\rm Li}_2\\left(e^{\\left(a_{i} - a_{j} + u - u_{\\mathit{ij}}\\right)}\\right) + {\\rm Li}_2\\left(e^{\\left(-a_{i} + a_{j} + u - u_{\\mathit{ij}}\\right)}\\right)</script></html>"
      ],
      "text/plain": [
       "-(a_i - a_j)*(u - u_ij) - dilog(e^(a_i - a_j + u - u_ij)) + dilog(e^(-a_i + a_j + u - u_ij))"
      ]
     },
     "metadata": {},
     "output_type": "display_data"
    },
    {
     "name": "stdout",
     "output_type": "stream",
     "text": [
      "\n",
      "Q3_1asym\n"
     ]
    },
    {
     "data": {
      "text/html": [
       "<html><script type=\"math/tex; mode=display\">\\newcommand{\\Bold}[1]{\\mathbf{#1}}a_{i} - \\log\\left(-e^{\\left(a_{i} - u + u_{i}\\right)} + 1\\right) - \\log\\left(-e^{\\left(a_{i} - u - u_{i}\\right)} + 1\\right) + \\log\\left(-e^{\\left(-a_{i} - u + u_{i}\\right)} + 1\\right) + \\log\\left(-e^{\\left(-a_{i} - u - u_{i}\\right)} + 1\\right)</script></html>"
      ],
      "text/plain": [
       "a_i - log(-e^(a_i - u + u_i) + 1) - log(-e^(a_i - u - u_i) + 1) + log(-e^(-a_i - u + u_i) + 1) + log(-e^(-a_i - u - u_i) + 1)"
      ]
     },
     "metadata": {},
     "output_type": "display_data"
    },
    {
     "data": {
      "text/html": [
       "<html><script type=\"math/tex; mode=display\">\\newcommand{\\Bold}[1]{\\mathbf{#1}}a_{i} - a_{j} - \\log\\left(-e^{\\left(a_{i} - a_{j} - u + u_{\\mathit{ij}}\\right)} + 1\\right) - \\log\\left(-e^{\\left(a_{i} - a_{j} - u - u_{\\mathit{ij}}\\right)} + 1\\right) + \\log\\left(-e^{\\left(-a_{i} + a_{j} - u + u_{\\mathit{ij}}\\right)} + 1\\right) + \\log\\left(-e^{\\left(-a_{i} + a_{j} - u - u_{\\mathit{ij}}\\right)} + 1\\right)</script></html>"
      ],
      "text/plain": [
       "a_i - a_j - log(-e^(a_i - a_j - u + u_ij) + 1) - log(-e^(a_i - a_j - u - u_ij) + 1) + log(-e^(-a_i + a_j - u + u_ij) + 1) + log(-e^(-a_i + a_j - u - u_ij) + 1)"
      ]
     },
     "metadata": {},
     "output_type": "display_data"
    },
    {
     "data": {
      "text/html": [
       "<html><script type=\"math/tex; mode=display\">\\newcommand{\\Bold}[1]{\\mathbf{#1}}a_{i} {\\left(u - u_{i}\\right)} - {\\rm Li}_2\\left(e^{\\left(a_{i} - u + u_{i}\\right)}\\right) - {\\rm Li}_2\\left(e^{\\left(a_{i} - u - u_{i}\\right)}\\right) + {\\rm Li}_2\\left(e^{\\left(-a_{i} - u + u_{i}\\right)}\\right) + {\\rm Li}_2\\left(e^{\\left(-a_{i} - u - u_{i}\\right)}\\right)</script></html>"
      ],
      "text/plain": [
       "a_i*(u - u_i) - dilog(e^(a_i - u + u_i)) - dilog(e^(a_i - u - u_i)) + dilog(e^(-a_i - u + u_i)) + dilog(e^(-a_i - u - u_i))"
      ]
     },
     "metadata": {},
     "output_type": "display_data"
    },
    {
     "data": {
      "text/html": [
       "<html><script type=\"math/tex; mode=display\">\\newcommand{\\Bold}[1]{\\mathbf{#1}}{\\left(a_{i} - a_{j}\\right)} {\\left(u - u_{\\mathit{ij}}\\right)} - {\\rm Li}_2\\left(e^{\\left(a_{i} - a_{j} - u + u_{\\mathit{ij}}\\right)}\\right) - {\\rm Li}_2\\left(e^{\\left(a_{i} - a_{j} - u - u_{\\mathit{ij}}\\right)}\\right) + {\\rm Li}_2\\left(e^{\\left(-a_{i} + a_{j} - u + u_{\\mathit{ij}}\\right)}\\right) + {\\rm Li}_2\\left(e^{\\left(-a_{i} + a_{j} - u - u_{\\mathit{ij}}\\right)}\\right)</script></html>"
      ],
      "text/plain": [
       "(a_i - a_j)*(u - u_ij) - dilog(e^(a_i - a_j - u + u_ij)) - dilog(e^(a_i - a_j - u - u_ij)) + dilog(e^(-a_i + a_j - u + u_ij)) + dilog(e^(-a_i + a_j - u - u_ij))"
      ]
     },
     "metadata": {},
     "output_type": "display_data"
    },
    {
     "name": "stdout",
     "output_type": "stream",
     "text": [
      "\n",
      "A1_0asym\n"
     ]
    },
    {
     "data": {
      "text/html": [
       "<html><script type=\"math/tex; mode=display\">\\newcommand{\\Bold}[1]{\\mathbf{#1}}\\frac{a_{i}}{u + u_{i}}</script></html>"
      ],
      "text/plain": [
       "a_i/(u + u_i)"
      ]
     },
     "metadata": {},
     "output_type": "display_data"
    },
    {
     "data": {
      "text/html": [
       "<html><script type=\"math/tex; mode=display\">\\newcommand{\\Bold}[1]{\\mathbf{#1}}\\frac{a_{i} - a_{j}}{u - u_{\\mathit{ij}}}</script></html>"
      ],
      "text/plain": [
       "(a_i - a_j)/(u - u_ij)"
      ]
     },
     "metadata": {},
     "output_type": "display_data"
    },
    {
     "data": {
      "text/html": [
       "<html><script type=\"math/tex; mode=display\">\\newcommand{\\Bold}[1]{\\mathbf{#1}}a_{i} \\log\\left(u + u_{i}\\right)</script></html>"
      ],
      "text/plain": [
       "a_i*log(u + u_i)"
      ]
     },
     "metadata": {},
     "output_type": "display_data"
    },
    {
     "data": {
      "text/html": [
       "<html><script type=\"math/tex; mode=display\">\\newcommand{\\Bold}[1]{\\mathbf{#1}}{\\left(a_{i} - a_{j}\\right)} \\log\\left(u - u_{\\mathit{ij}}\\right)</script></html>"
      ],
      "text/plain": [
       "(a_i - a_j)*log(u - u_ij)"
      ]
     },
     "metadata": {},
     "output_type": "display_data"
    },
    {
     "name": "stdout",
     "output_type": "stream",
     "text": [
      "\n",
      "A1_1asym\n"
     ]
    },
    {
     "data": {
      "text/html": [
       "<html><script type=\"math/tex; mode=display\">\\newcommand{\\Bold}[1]{\\mathbf{#1}}\\log\\left(a_{i} + u + u_{i}\\right) - \\log\\left(-a_{i} + u + u_{i}\\right)</script></html>"
      ],
      "text/plain": [
       "log(a_i + u + u_i) - log(-a_i + u + u_i)"
      ]
     },
     "metadata": {},
     "output_type": "display_data"
    },
    {
     "data": {
      "text/html": [
       "<html><script type=\"math/tex; mode=display\">\\newcommand{\\Bold}[1]{\\mathbf{#1}}-\\log\\left(a_{i} - a_{j} - u + u_{\\mathit{ij}}\\right) + \\log\\left(-a_{i} + a_{j} - u + u_{\\mathit{ij}}\\right)</script></html>"
      ],
      "text/plain": [
       "-log(a_i - a_j - u + u_ij) + log(-a_i + a_j - u + u_ij)"
      ]
     },
     "metadata": {},
     "output_type": "display_data"
    },
    {
     "data": {
      "text/html": [
       "<html><script type=\"math/tex; mode=display\">\\newcommand{\\Bold}[1]{\\mathbf{#1}}{\\left(a_{i} + u + u_{i}\\right)} \\log\\left(a_{i} + u + u_{i}\\right) + {\\left(a_{i} - u - u_{i}\\right)} \\log\\left(-a_{i} + u + u_{i}\\right)</script></html>"
      ],
      "text/plain": [
       "(a_i + u + u_i)*log(a_i + u + u_i) + (a_i - u - u_i)*log(-a_i + u + u_i)"
      ]
     },
     "metadata": {},
     "output_type": "display_data"
    },
    {
     "data": {
      "text/html": [
       "<html><script type=\"math/tex; mode=display\">\\newcommand{\\Bold}[1]{\\mathbf{#1}}{\\left(a_{i} - a_{j} - u + u_{\\mathit{ij}}\\right)} \\log\\left(a_{i} - a_{j} - u + u_{\\mathit{ij}}\\right) + {\\left(a_{i} - a_{j} + u - u_{\\mathit{ij}}\\right)} \\log\\left(-a_{i} + a_{j} - u + u_{\\mathit{ij}}\\right)</script></html>"
      ],
      "text/plain": [
       "(a_i - a_j - u + u_ij)*log(a_i - a_j - u + u_ij) + (a_i - a_j + u - u_ij)*log(-a_i + a_j - u + u_ij)"
      ]
     },
     "metadata": {},
     "output_type": "display_data"
    },
    {
     "name": "stdout",
     "output_type": "stream",
     "text": [
      "\n",
      "A2asym\n"
     ]
    },
    {
     "data": {
      "text/html": [
       "<html><script type=\"math/tex; mode=display\">\\newcommand{\\Bold}[1]{\\mathbf{#1}}-a_{i} + \\log\\left(-e^{\\left(a_{i} + u + u_{i}\\right)} + 1\\right) - \\log\\left(-e^{\\left(-a_{i} + u + u_{i}\\right)} + 1\\right)</script></html>"
      ],
      "text/plain": [
       "-a_i + log(-e^(a_i + u + u_i) + 1) - log(-e^(-a_i + u + u_i) + 1)"
      ]
     },
     "metadata": {},
     "output_type": "display_data"
    },
    {
     "data": {
      "text/html": [
       "<html><script type=\"math/tex; mode=display\">\\newcommand{\\Bold}[1]{\\mathbf{#1}}-a_{i} + a_{j} + \\log\\left(-e^{\\left(a_{i} - a_{j} + u - u_{\\mathit{ij}}\\right)} + 1\\right) - \\log\\left(-e^{\\left(-a_{i} + a_{j} + u - u_{\\mathit{ij}}\\right)} + 1\\right)</script></html>"
      ],
      "text/plain": [
       "-a_i + a_j + log(-e^(a_i - a_j + u - u_ij) + 1) - log(-e^(-a_i + a_j + u - u_ij) + 1)"
      ]
     },
     "metadata": {},
     "output_type": "display_data"
    },
    {
     "data": {
      "text/html": [
       "<html><script type=\"math/tex; mode=display\">\\newcommand{\\Bold}[1]{\\mathbf{#1}}-a_{i} {\\left(u + u_{i}\\right)} - {\\rm Li}_2\\left(e^{\\left(a_{i} + u + u_{i}\\right)}\\right) + {\\rm Li}_2\\left(e^{\\left(-a_{i} + u + u_{i}\\right)}\\right)</script></html>"
      ],
      "text/plain": [
       "-a_i*(u + u_i) - dilog(e^(a_i + u + u_i)) + dilog(e^(-a_i + u + u_i))"
      ]
     },
     "metadata": {},
     "output_type": "display_data"
    },
    {
     "data": {
      "text/html": [
       "<html><script type=\"math/tex; mode=display\">\\newcommand{\\Bold}[1]{\\mathbf{#1}}-{\\left(a_{i} - a_{j}\\right)} {\\left(u - u_{\\mathit{ij}}\\right)} - {\\rm Li}_2\\left(e^{\\left(a_{i} - a_{j} + u - u_{\\mathit{ij}}\\right)}\\right) + {\\rm Li}_2\\left(e^{\\left(-a_{i} + a_{j} + u - u_{\\mathit{ij}}\\right)}\\right)</script></html>"
      ],
      "text/plain": [
       "-(a_i - a_j)*(u - u_ij) - dilog(e^(a_i - a_j + u - u_ij)) + dilog(e^(-a_i + a_j + u - u_ij))"
      ]
     },
     "metadata": {},
     "output_type": "display_data"
    },
    {
     "name": "stdout",
     "output_type": "stream",
     "text": [
      "\n"
     ]
    }
   ],
   "source": [
    "for eq in asymABSlist:\n",
    "    print(eq.name)\n",
    "    show(eq.psi(u,u_i,a_i))\n",
    "    show(eq.phi(u,u_ij,a_i,a_j))\n",
    "    show(eq.Lshort(u,u_i,a_i))\n",
    "    show(eq.Llong(u,u_ij,a_i,a_j))\n",
    "    print()"
   ]
  },
  {
   "cell_type": "code",
   "execution_count": 27,
   "metadata": {
    "scrolled": true
   },
   "outputs": [
    {
     "name": "stdout",
     "output_type": "stream",
     "text": [
      "H1\n"
     ]
    },
    {
     "data": {
      "text/html": [
       "<html><script type=\"math/tex; mode=display\">\\newcommand{\\Bold}[1]{\\mathbf{#1}}2 \\, u_{i}</script></html>"
      ],
      "text/plain": [
       "2*u_i"
      ]
     },
     "metadata": {},
     "output_type": "display_data"
    },
    {
     "data": {
      "text/html": [
       "<html><script type=\"math/tex; mode=display\">\\newcommand{\\Bold}[1]{\\mathbf{#1}}\\frac{2 \\, {\\left(a_{i} - a_{j}\\right)}}{u - u_{\\mathit{ij}}}</script></html>"
      ],
      "text/plain": [
       "2*(a_i - a_j)/(u - u_ij)"
      ]
     },
     "metadata": {},
     "output_type": "display_data"
    },
    {
     "data": {
      "text/html": [
       "<html><script type=\"math/tex; mode=display\">\\newcommand{\\Bold}[1]{\\mathbf{#1}}2 \\, u u_{i}</script></html>"
      ],
      "text/plain": [
       "2*u*u_i"
      ]
     },
     "metadata": {},
     "output_type": "display_data"
    },
    {
     "data": {
      "text/html": [
       "<html><script type=\"math/tex; mode=display\">\\newcommand{\\Bold}[1]{\\mathbf{#1}}{\\left(a_{i} - a_{j}\\right)} \\log\\left({\\left(u - u_{\\mathit{ij}}\\right)}^{2}\\right)</script></html>"
      ],
      "text/plain": [
       "(a_i - a_j)*log((u - u_ij)^2)"
      ]
     },
     "metadata": {},
     "output_type": "display_data"
    },
    {
     "name": "stdout",
     "output_type": "stream",
     "text": [
      "\n",
      "H2\n"
     ]
    },
    {
     "data": {
      "text/html": [
       "<html><script type=\"math/tex; mode=display\">\\newcommand{\\Bold}[1]{\\mathbf{#1}}\\log\\left(a_{i} + u + u_{i}\\right) + 1</script></html>"
      ],
      "text/plain": [
       "log(a_i + u + u_i) + 1"
      ]
     },
     "metadata": {},
     "output_type": "display_data"
    },
    {
     "data": {
      "text/html": [
       "<html><script type=\"math/tex; mode=display\">\\newcommand{\\Bold}[1]{\\mathbf{#1}}i \\, \\pi + \\log\\left(a_{i} - a_{j} + u - u_{\\mathit{ij}}\\right) - \\log\\left(a_{i} - a_{j} - u + u_{\\mathit{ij}}\\right)</script></html>"
      ],
      "text/plain": [
       "I*pi + log(a_i - a_j + u - u_ij) - log(a_i - a_j - u + u_ij)"
      ]
     },
     "metadata": {},
     "output_type": "display_data"
    },
    {
     "data": {
      "text/html": [
       "<html><script type=\"math/tex; mode=display\">\\newcommand{\\Bold}[1]{\\mathbf{#1}}{\\left(a_{i} + u + u_{i}\\right)} \\log\\left(a_{i} + u + u_{i}\\right)</script></html>"
      ],
      "text/plain": [
       "(a_i + u + u_i)*log(a_i + u + u_i)"
      ]
     },
     "metadata": {},
     "output_type": "display_data"
    },
    {
     "data": {
      "text/html": [
       "<html><script type=\"math/tex; mode=display\">\\newcommand{\\Bold}[1]{\\mathbf{#1}}i \\, \\pi {\\left(u + u_{\\mathit{ij}}\\right)} + {\\left(a_{i} - a_{j} + u - u_{\\mathit{ij}}\\right)} \\log\\left(a_{i} - a_{j} + u - u_{\\mathit{ij}}\\right) + {\\left(a_{i} - a_{j} - u + u_{\\mathit{ij}}\\right)} \\log\\left(a_{i} - a_{j} - u + u_{\\mathit{ij}}\\right)</script></html>"
      ],
      "text/plain": [
       "I*pi*(u + u_ij) + (a_i - a_j + u - u_ij)*log(a_i - a_j + u - u_ij) + (a_i - a_j - u + u_ij)*log(a_i - a_j - u + u_ij)"
      ]
     },
     "metadata": {},
     "output_type": "display_data"
    },
    {
     "name": "stdout",
     "output_type": "stream",
     "text": [
      "\n",
      "H3_0t\n"
     ]
    },
    {
     "data": {
      "text/html": [
       "<html><script type=\"math/tex; mode=display\">\\newcommand{\\Bold}[1]{\\mathbf{#1}}-u_{i}</script></html>"
      ],
      "text/plain": [
       "-u_i"
      ]
     },
     "metadata": {},
     "output_type": "display_data"
    },
    {
     "data": {
      "text/html": [
       "<html><script type=\"math/tex; mode=display\">\\newcommand{\\Bold}[1]{\\mathbf{#1}}i \\, \\pi - u + u_{\\mathit{ij}} + \\log\\left(-e^{\\left(a_{i} - a_{j} + u - u_{\\mathit{ij}}\\right)} + 1\\right) - \\log\\left(-e^{\\left(a_{i} - a_{j} - u + u_{\\mathit{ij}}\\right)} + 1\\right)</script></html>"
      ],
      "text/plain": [
       "I*pi - u + u_ij + log(-e^(a_i - a_j + u - u_ij) + 1) - log(-e^(a_i - a_j - u + u_ij) + 1)"
      ]
     },
     "metadata": {},
     "output_type": "display_data"
    },
    {
     "data": {
      "text/html": [
       "<html><script type=\"math/tex; mode=display\">\\newcommand{\\Bold}[1]{\\mathbf{#1}}-u u_{i}</script></html>"
      ],
      "text/plain": [
       "-u*u_i"
      ]
     },
     "metadata": {},
     "output_type": "display_data"
    },
    {
     "data": {
      "text/html": [
       "<html><script type=\"math/tex; mode=display\">\\newcommand{\\Bold}[1]{\\mathbf{#1}}i \\, \\pi {\\left(u + u_{\\mathit{ij}}\\right)} - \\frac{1}{2} \\, {\\left(u - u_{\\mathit{ij}}\\right)}^{2} - {\\rm Li}_2\\left(e^{\\left(a_{i} - a_{j} + u - u_{\\mathit{ij}}\\right)}\\right) - {\\rm Li}_2\\left(e^{\\left(a_{i} - a_{j} - u + u_{\\mathit{ij}}\\right)}\\right)</script></html>"
      ],
      "text/plain": [
       "I*pi*(u + u_ij) - 1/2*(u - u_ij)^2 - dilog(e^(a_i - a_j + u - u_ij)) - dilog(e^(a_i - a_j - u + u_ij))"
      ]
     },
     "metadata": {},
     "output_type": "display_data"
    },
    {
     "name": "stdout",
     "output_type": "stream",
     "text": [
      "\n",
      "H3_1t\n"
     ]
    },
    {
     "data": {
      "text/html": [
       "<html><script type=\"math/tex; mode=display\">\\newcommand{\\Bold}[1]{\\mathbf{#1}}-i \\, \\pi - a_{i} - \\log\\left(-e^{\\left(-a_{i} + u + u_{i}\\right)} + 1\\right)</script></html>"
      ],
      "text/plain": [
       "-I*pi - a_i - log(-e^(-a_i + u + u_i) + 1)"
      ]
     },
     "metadata": {},
     "output_type": "display_data"
    },
    {
     "data": {
      "text/html": [
       "<html><script type=\"math/tex; mode=display\">\\newcommand{\\Bold}[1]{\\mathbf{#1}}i \\, \\pi - u + u_{\\mathit{ij}} + \\log\\left(-e^{\\left(a_{i} - a_{j} + u - u_{\\mathit{ij}}\\right)} + 1\\right) - \\log\\left(-e^{\\left(a_{i} - a_{j} - u + u_{\\mathit{ij}}\\right)} + 1\\right)</script></html>"
      ],
      "text/plain": [
       "I*pi - u + u_ij + log(-e^(a_i - a_j + u - u_ij) + 1) - log(-e^(a_i - a_j - u + u_ij) + 1)"
      ]
     },
     "metadata": {},
     "output_type": "display_data"
    },
    {
     "data": {
      "text/html": [
       "<html><script type=\"math/tex; mode=display\">\\newcommand{\\Bold}[1]{\\mathbf{#1}}-{\\left(i \\, \\pi + a_{i}\\right)} {\\left(u + u_{i}\\right)} + {\\rm Li}_2\\left(e^{\\left(-a_{i} + u + u_{i}\\right)}\\right)</script></html>"
      ],
      "text/plain": [
       "-(I*pi + a_i)*(u + u_i) + dilog(e^(-a_i + u + u_i))"
      ]
     },
     "metadata": {},
     "output_type": "display_data"
    },
    {
     "data": {
      "text/html": [
       "<html><script type=\"math/tex; mode=display\">\\newcommand{\\Bold}[1]{\\mathbf{#1}}i \\, \\pi {\\left(u + u_{\\mathit{ij}}\\right)} - \\frac{1}{2} \\, {\\left(u - u_{\\mathit{ij}}\\right)}^{2} - {\\rm Li}_2\\left(e^{\\left(a_{i} - a_{j} + u - u_{\\mathit{ij}}\\right)}\\right) - {\\rm Li}_2\\left(e^{\\left(a_{i} - a_{j} - u + u_{\\mathit{ij}}\\right)}\\right)</script></html>"
      ],
      "text/plain": [
       "I*pi*(u + u_ij) - 1/2*(u - u_ij)^2 - dilog(e^(a_i - a_j + u - u_ij)) - dilog(e^(a_i - a_j - u + u_ij))"
      ]
     },
     "metadata": {},
     "output_type": "display_data"
    },
    {
     "name": "stdout",
     "output_type": "stream",
     "text": [
      "\n",
      "Q1_0\n"
     ]
    },
    {
     "data": {
      "text/html": [
       "<html><script type=\"math/tex; mode=display\">\\newcommand{\\Bold}[1]{\\mathbf{#1}}\\frac{2 \\, a_{i}}{u - u_{i}}</script></html>"
      ],
      "text/plain": [
       "2*a_i/(u - u_i)"
      ]
     },
     "metadata": {},
     "output_type": "display_data"
    },
    {
     "data": {
      "text/html": [
       "<html><script type=\"math/tex; mode=display\">\\newcommand{\\Bold}[1]{\\mathbf{#1}}\\frac{2 \\, {\\left(a_{i} - a_{j}\\right)}}{u - u_{\\mathit{ij}}}</script></html>"
      ],
      "text/plain": [
       "2*(a_i - a_j)/(u - u_ij)"
      ]
     },
     "metadata": {},
     "output_type": "display_data"
    },
    {
     "data": {
      "text/html": [
       "<html><script type=\"math/tex; mode=display\">\\newcommand{\\Bold}[1]{\\mathbf{#1}}a_{i} \\log\\left({\\left(u - u_{i}\\right)}^{2}\\right)</script></html>"
      ],
      "text/plain": [
       "a_i*log((u - u_i)^2)"
      ]
     },
     "metadata": {},
     "output_type": "display_data"
    },
    {
     "data": {
      "text/html": [
       "<html><script type=\"math/tex; mode=display\">\\newcommand{\\Bold}[1]{\\mathbf{#1}}{\\left(a_{i} - a_{j}\\right)} \\log\\left({\\left(u - u_{\\mathit{ij}}\\right)}^{2}\\right)</script></html>"
      ],
      "text/plain": [
       "(a_i - a_j)*log((u - u_ij)^2)"
      ]
     },
     "metadata": {},
     "output_type": "display_data"
    },
    {
     "name": "stdout",
     "output_type": "stream",
     "text": [
      "\n",
      "Q1_1\n"
     ]
    },
    {
     "data": {
      "text/html": [
       "<html><script type=\"math/tex; mode=display\">\\newcommand{\\Bold}[1]{\\mathbf{#1}}i \\, \\pi + \\log\\left(a_{i} + u - u_{i}\\right) - \\log\\left(a_{i} - u + u_{i}\\right)</script></html>"
      ],
      "text/plain": [
       "I*pi + log(a_i + u - u_i) - log(a_i - u + u_i)"
      ]
     },
     "metadata": {},
     "output_type": "display_data"
    },
    {
     "data": {
      "text/html": [
       "<html><script type=\"math/tex; mode=display\">\\newcommand{\\Bold}[1]{\\mathbf{#1}}i \\, \\pi + \\log\\left(a_{i} - a_{j} + u - u_{\\mathit{ij}}\\right) - \\log\\left(a_{i} - a_{j} - u + u_{\\mathit{ij}}\\right)</script></html>"
      ],
      "text/plain": [
       "I*pi + log(a_i - a_j + u - u_ij) - log(a_i - a_j - u + u_ij)"
      ]
     },
     "metadata": {},
     "output_type": "display_data"
    },
    {
     "data": {
      "text/html": [
       "<html><script type=\"math/tex; mode=display\">\\newcommand{\\Bold}[1]{\\mathbf{#1}}i \\, \\pi {\\left(u + u_{i}\\right)} + {\\left(a_{i} + u - u_{i}\\right)} \\log\\left(a_{i} + u - u_{i}\\right) + {\\left(a_{i} - u + u_{i}\\right)} \\log\\left(a_{i} - u + u_{i}\\right)</script></html>"
      ],
      "text/plain": [
       "I*pi*(u + u_i) + (a_i + u - u_i)*log(a_i + u - u_i) + (a_i - u + u_i)*log(a_i - u + u_i)"
      ]
     },
     "metadata": {},
     "output_type": "display_data"
    },
    {
     "data": {
      "text/html": [
       "<html><script type=\"math/tex; mode=display\">\\newcommand{\\Bold}[1]{\\mathbf{#1}}i \\, \\pi {\\left(u + u_{\\mathit{ij}}\\right)} + {\\left(a_{i} - a_{j} + u - u_{\\mathit{ij}}\\right)} \\log\\left(a_{i} - a_{j} + u - u_{\\mathit{ij}}\\right) + {\\left(a_{i} - a_{j} - u + u_{\\mathit{ij}}\\right)} \\log\\left(a_{i} - a_{j} - u + u_{\\mathit{ij}}\\right)</script></html>"
      ],
      "text/plain": [
       "I*pi*(u + u_ij) + (a_i - a_j + u - u_ij)*log(a_i - a_j + u - u_ij) + (a_i - a_j - u + u_ij)*log(a_i - a_j - u + u_ij)"
      ]
     },
     "metadata": {},
     "output_type": "display_data"
    },
    {
     "name": "stdout",
     "output_type": "stream",
     "text": [
      "\n",
      "Q2t\n"
     ]
    },
    {
     "data": {
      "text/html": [
       "<html><script type=\"math/tex; mode=display\">\\newcommand{\\Bold}[1]{\\mathbf{#1}}i \\, \\pi + \\log\\left(a_{i} + u + u_{i}\\right) + \\log\\left(a_{i} + u - u_{i}\\right) - \\log\\left(a_{i} - u + u_{i}\\right) - \\log\\left(-a_{i} + u + u_{i}\\right)</script></html>"
      ],
      "text/plain": [
       "I*pi + log(a_i + u + u_i) + log(a_i + u - u_i) - log(a_i - u + u_i) - log(-a_i + u + u_i)"
      ]
     },
     "metadata": {},
     "output_type": "display_data"
    },
    {
     "data": {
      "text/html": [
       "<html><script type=\"math/tex; mode=display\">\\newcommand{\\Bold}[1]{\\mathbf{#1}}i \\, \\pi + \\log\\left(a_{i} - a_{j} + u + u_{\\mathit{ij}}\\right) + \\log\\left(a_{i} - a_{j} + u - u_{\\mathit{ij}}\\right) - \\log\\left(a_{i} - a_{j} - u + u_{\\mathit{ij}}\\right) - \\log\\left(-a_{i} + a_{j} + u + u_{\\mathit{ij}}\\right)</script></html>"
      ],
      "text/plain": [
       "I*pi + log(a_i - a_j + u + u_ij) + log(a_i - a_j + u - u_ij) - log(a_i - a_j - u + u_ij) - log(-a_i + a_j + u + u_ij)"
      ]
     },
     "metadata": {},
     "output_type": "display_data"
    },
    {
     "data": {
      "text/html": [
       "<html><script type=\"math/tex; mode=display\">\\newcommand{\\Bold}[1]{\\mathbf{#1}}i \\, \\pi {\\left(u + u_{i}\\right)} + {\\left(a_{i} + u + u_{i}\\right)} \\log\\left(a_{i} + u + u_{i}\\right) + {\\left(a_{i} + u - u_{i}\\right)} \\log\\left(a_{i} + u - u_{i}\\right) + {\\left(a_{i} - u + u_{i}\\right)} \\log\\left(a_{i} - u + u_{i}\\right) + {\\left(a_{i} - u - u_{i}\\right)} \\log\\left(-a_{i} + u + u_{i}\\right)</script></html>"
      ],
      "text/plain": [
       "I*pi*(u + u_i) + (a_i + u + u_i)*log(a_i + u + u_i) + (a_i + u - u_i)*log(a_i + u - u_i) + (a_i - u + u_i)*log(a_i - u + u_i) + (a_i - u - u_i)*log(-a_i + u + u_i)"
      ]
     },
     "metadata": {},
     "output_type": "display_data"
    },
    {
     "data": {
      "text/html": [
       "<html><script type=\"math/tex; mode=display\">\\newcommand{\\Bold}[1]{\\mathbf{#1}}i \\, \\pi {\\left(u + u_{\\mathit{ij}}\\right)} + {\\left(a_{i} - a_{j} + u + u_{\\mathit{ij}}\\right)} \\log\\left(a_{i} - a_{j} + u + u_{\\mathit{ij}}\\right) + {\\left(a_{i} - a_{j} + u - u_{\\mathit{ij}}\\right)} \\log\\left(a_{i} - a_{j} + u - u_{\\mathit{ij}}\\right) + {\\left(a_{i} - a_{j} - u + u_{\\mathit{ij}}\\right)} \\log\\left(a_{i} - a_{j} - u + u_{\\mathit{ij}}\\right) + {\\left(a_{i} - a_{j} - u - u_{\\mathit{ij}}\\right)} \\log\\left(-a_{i} + a_{j} + u + u_{\\mathit{ij}}\\right)</script></html>"
      ],
      "text/plain": [
       "I*pi*(u + u_ij) + (a_i - a_j + u + u_ij)*log(a_i - a_j + u + u_ij) + (a_i - a_j + u - u_ij)*log(a_i - a_j + u - u_ij) + (a_i - a_j - u + u_ij)*log(a_i - a_j - u + u_ij) + (a_i - a_j - u - u_ij)*log(-a_i + a_j + u + u_ij)"
      ]
     },
     "metadata": {},
     "output_type": "display_data"
    },
    {
     "name": "stdout",
     "output_type": "stream",
     "text": [
      "\n",
      "Q3_0t\n"
     ]
    },
    {
     "data": {
      "text/html": [
       "<html><script type=\"math/tex; mode=display\">\\newcommand{\\Bold}[1]{\\mathbf{#1}}i \\, \\pi - u + u_{i} + \\log\\left(-e^{\\left(a_{i} + u - u_{i}\\right)} + 1\\right) - \\log\\left(-e^{\\left(a_{i} - u + u_{i}\\right)} + 1\\right)</script></html>"
      ],
      "text/plain": [
       "I*pi - u + u_i + log(-e^(a_i + u - u_i) + 1) - log(-e^(a_i - u + u_i) + 1)"
      ]
     },
     "metadata": {},
     "output_type": "display_data"
    },
    {
     "data": {
      "text/html": [
       "<html><script type=\"math/tex; mode=display\">\\newcommand{\\Bold}[1]{\\mathbf{#1}}i \\, \\pi - u + u_{\\mathit{ij}} + \\log\\left(-e^{\\left(a_{i} - a_{j} + u - u_{\\mathit{ij}}\\right)} + 1\\right) - \\log\\left(-e^{\\left(a_{i} - a_{j} - u + u_{\\mathit{ij}}\\right)} + 1\\right)</script></html>"
      ],
      "text/plain": [
       "I*pi - u + u_ij + log(-e^(a_i - a_j + u - u_ij) + 1) - log(-e^(a_i - a_j - u + u_ij) + 1)"
      ]
     },
     "metadata": {},
     "output_type": "display_data"
    },
    {
     "data": {
      "text/html": [
       "<html><script type=\"math/tex; mode=display\">\\newcommand{\\Bold}[1]{\\mathbf{#1}}i \\, \\pi {\\left(u + u_{i}\\right)} - \\frac{1}{2} \\, {\\left(u - u_{i}\\right)}^{2} - {\\rm Li}_2\\left(e^{\\left(a_{i} + u - u_{i}\\right)}\\right) - {\\rm Li}_2\\left(e^{\\left(a_{i} - u + u_{i}\\right)}\\right)</script></html>"
      ],
      "text/plain": [
       "I*pi*(u + u_i) - 1/2*(u - u_i)^2 - dilog(e^(a_i + u - u_i)) - dilog(e^(a_i - u + u_i))"
      ]
     },
     "metadata": {},
     "output_type": "display_data"
    },
    {
     "data": {
      "text/html": [
       "<html><script type=\"math/tex; mode=display\">\\newcommand{\\Bold}[1]{\\mathbf{#1}}i \\, \\pi {\\left(u + u_{\\mathit{ij}}\\right)} - \\frac{1}{2} \\, {\\left(u - u_{\\mathit{ij}}\\right)}^{2} - {\\rm Li}_2\\left(e^{\\left(a_{i} - a_{j} + u - u_{\\mathit{ij}}\\right)}\\right) - {\\rm Li}_2\\left(e^{\\left(a_{i} - a_{j} - u + u_{\\mathit{ij}}\\right)}\\right)</script></html>"
      ],
      "text/plain": [
       "I*pi*(u + u_ij) - 1/2*(u - u_ij)^2 - dilog(e^(a_i - a_j + u - u_ij)) - dilog(e^(a_i - a_j - u + u_ij))"
      ]
     },
     "metadata": {},
     "output_type": "display_data"
    },
    {
     "name": "stdout",
     "output_type": "stream",
     "text": [
      "\n",
      "Q3_1t\n"
     ]
    },
    {
     "data": {
      "text/html": [
       "<html><script type=\"math/tex; mode=display\">\\newcommand{\\Bold}[1]{\\mathbf{#1}}-a_{i} + 2 \\, u - \\log\\left(-e^{\\left(-a_{i} + u + u_{i}\\right)} + 1\\right) - \\log\\left(-e^{\\left(-a_{i} + u - u_{i}\\right)} + 1\\right) + \\log\\left(-e^{\\left(-a_{i} - u + u_{i}\\right)} + 1\\right) + \\log\\left(-e^{\\left(-a_{i} - u - u_{i}\\right)} + 1\\right)</script></html>"
      ],
      "text/plain": [
       "-a_i + 2*u - log(-e^(-a_i + u + u_i) + 1) - log(-e^(-a_i + u - u_i) + 1) + log(-e^(-a_i - u + u_i) + 1) + log(-e^(-a_i - u - u_i) + 1)"
      ]
     },
     "metadata": {},
     "output_type": "display_data"
    },
    {
     "data": {
      "text/html": [
       "<html><script type=\"math/tex; mode=display\">\\newcommand{\\Bold}[1]{\\mathbf{#1}}-a_{i} + a_{j} + 2 \\, u - \\log\\left(-e^{\\left(-a_{i} + a_{j} + u + u_{\\mathit{ij}}\\right)} + 1\\right) - \\log\\left(-e^{\\left(-a_{i} + a_{j} + u - u_{\\mathit{ij}}\\right)} + 1\\right) + \\log\\left(-e^{\\left(-a_{i} + a_{j} - u + u_{\\mathit{ij}}\\right)} + 1\\right) + \\log\\left(-e^{\\left(-a_{i} + a_{j} - u - u_{\\mathit{ij}}\\right)} + 1\\right)</script></html>"
      ],
      "text/plain": [
       "-a_i + a_j + 2*u - log(-e^(-a_i + a_j + u + u_ij) + 1) - log(-e^(-a_i + a_j + u - u_ij) + 1) + log(-e^(-a_i + a_j - u + u_ij) + 1) + log(-e^(-a_i + a_j - u - u_ij) + 1)"
      ]
     },
     "metadata": {},
     "output_type": "display_data"
    },
    {
     "data": {
      "text/html": [
       "<html><script type=\"math/tex; mode=display\">\\newcommand{\\Bold}[1]{\\mathbf{#1}}-a_{i} {\\left(u - u_{i}\\right)} + u^{2} + u_{i}^{2} + {\\rm Li}_2\\left(e^{\\left(-a_{i} + u + u_{i}\\right)}\\right) + {\\rm Li}_2\\left(e^{\\left(-a_{i} + u - u_{i}\\right)}\\right) + {\\rm Li}_2\\left(e^{\\left(-a_{i} - u + u_{i}\\right)}\\right) + {\\rm Li}_2\\left(e^{\\left(-a_{i} - u - u_{i}\\right)}\\right)</script></html>"
      ],
      "text/plain": [
       "-a_i*(u - u_i) + u^2 + u_i^2 + dilog(e^(-a_i + u + u_i)) + dilog(e^(-a_i + u - u_i)) + dilog(e^(-a_i - u + u_i)) + dilog(e^(-a_i - u - u_i))"
      ]
     },
     "metadata": {},
     "output_type": "display_data"
    },
    {
     "data": {
      "text/html": [
       "<html><script type=\"math/tex; mode=display\">\\newcommand{\\Bold}[1]{\\mathbf{#1}}-{\\left(a_{i} - a_{j}\\right)} {\\left(u - u_{\\mathit{ij}}\\right)} + u^{2} + u_{\\mathit{ij}}^{2} + {\\rm Li}_2\\left(e^{\\left(-a_{i} + a_{j} + u + u_{\\mathit{ij}}\\right)}\\right) + {\\rm Li}_2\\left(e^{\\left(-a_{i} + a_{j} + u - u_{\\mathit{ij}}\\right)}\\right) + {\\rm Li}_2\\left(e^{\\left(-a_{i} + a_{j} - u + u_{\\mathit{ij}}\\right)}\\right) + {\\rm Li}_2\\left(e^{\\left(-a_{i} + a_{j} - u - u_{\\mathit{ij}}\\right)}\\right)</script></html>"
      ],
      "text/plain": [
       "-(a_i - a_j)*(u - u_ij) + u^2 + u_ij^2 + dilog(e^(-a_i + a_j + u + u_ij)) + dilog(e^(-a_i + a_j + u - u_ij)) + dilog(e^(-a_i + a_j - u + u_ij)) + dilog(e^(-a_i + a_j - u - u_ij))"
      ]
     },
     "metadata": {},
     "output_type": "display_data"
    },
    {
     "name": "stdout",
     "output_type": "stream",
     "text": [
      "\n",
      "A1_0\n"
     ]
    },
    {
     "data": {
      "text/html": [
       "<html><script type=\"math/tex; mode=display\">\\newcommand{\\Bold}[1]{\\mathbf{#1}}\\frac{2 \\, a_{i}}{u + u_{i}}</script></html>"
      ],
      "text/plain": [
       "2*a_i/(u + u_i)"
      ]
     },
     "metadata": {},
     "output_type": "display_data"
    },
    {
     "data": {
      "text/html": [
       "<html><script type=\"math/tex; mode=display\">\\newcommand{\\Bold}[1]{\\mathbf{#1}}\\frac{2 \\, {\\left(a_{i} - a_{j}\\right)}}{u - u_{\\mathit{ij}}}</script></html>"
      ],
      "text/plain": [
       "2*(a_i - a_j)/(u - u_ij)"
      ]
     },
     "metadata": {},
     "output_type": "display_data"
    },
    {
     "data": {
      "text/html": [
       "<html><script type=\"math/tex; mode=display\">\\newcommand{\\Bold}[1]{\\mathbf{#1}}2 \\, a_{i} \\log\\left(u + u_{i}\\right)</script></html>"
      ],
      "text/plain": [
       "2*a_i*log(u + u_i)"
      ]
     },
     "metadata": {},
     "output_type": "display_data"
    },
    {
     "data": {
      "text/html": [
       "<html><script type=\"math/tex; mode=display\">\\newcommand{\\Bold}[1]{\\mathbf{#1}}{\\left(a_{i} - a_{j}\\right)} \\log\\left({\\left(u - u_{\\mathit{ij}}\\right)}^{2}\\right)</script></html>"
      ],
      "text/plain": [
       "(a_i - a_j)*log((u - u_ij)^2)"
      ]
     },
     "metadata": {},
     "output_type": "display_data"
    },
    {
     "name": "stdout",
     "output_type": "stream",
     "text": [
      "\n",
      "A1_1\n"
     ]
    },
    {
     "data": {
      "text/html": [
       "<html><script type=\"math/tex; mode=display\">\\newcommand{\\Bold}[1]{\\mathbf{#1}}\\log\\left(a_{i} + u + u_{i}\\right) - \\log\\left(-a_{i} + u + u_{i}\\right)</script></html>"
      ],
      "text/plain": [
       "log(a_i + u + u_i) - log(-a_i + u + u_i)"
      ]
     },
     "metadata": {},
     "output_type": "display_data"
    },
    {
     "data": {
      "text/html": [
       "<html><script type=\"math/tex; mode=display\">\\newcommand{\\Bold}[1]{\\mathbf{#1}}i \\, \\pi + \\log\\left(a_{i} - a_{j} + u - u_{\\mathit{ij}}\\right) - \\log\\left(a_{i} - a_{j} - u + u_{\\mathit{ij}}\\right)</script></html>"
      ],
      "text/plain": [
       "I*pi + log(a_i - a_j + u - u_ij) - log(a_i - a_j - u + u_ij)"
      ]
     },
     "metadata": {},
     "output_type": "display_data"
    },
    {
     "data": {
      "text/html": [
       "<html><script type=\"math/tex; mode=display\">\\newcommand{\\Bold}[1]{\\mathbf{#1}}{\\left(a_{i} + u + u_{i}\\right)} \\log\\left(a_{i} + u + u_{i}\\right) + {\\left(a_{i} - u - u_{i}\\right)} \\log\\left(-a_{i} + u + u_{i}\\right)</script></html>"
      ],
      "text/plain": [
       "(a_i + u + u_i)*log(a_i + u + u_i) + (a_i - u - u_i)*log(-a_i + u + u_i)"
      ]
     },
     "metadata": {},
     "output_type": "display_data"
    },
    {
     "data": {
      "text/html": [
       "<html><script type=\"math/tex; mode=display\">\\newcommand{\\Bold}[1]{\\mathbf{#1}}i \\, \\pi {\\left(u + u_{\\mathit{ij}}\\right)} + {\\left(a_{i} - a_{j} + u - u_{\\mathit{ij}}\\right)} \\log\\left(a_{i} - a_{j} + u - u_{\\mathit{ij}}\\right) + {\\left(a_{i} - a_{j} - u + u_{\\mathit{ij}}\\right)} \\log\\left(a_{i} - a_{j} - u + u_{\\mathit{ij}}\\right)</script></html>"
      ],
      "text/plain": [
       "I*pi*(u + u_ij) + (a_i - a_j + u - u_ij)*log(a_i - a_j + u - u_ij) + (a_i - a_j - u + u_ij)*log(a_i - a_j - u + u_ij)"
      ]
     },
     "metadata": {},
     "output_type": "display_data"
    },
    {
     "name": "stdout",
     "output_type": "stream",
     "text": [
      "\n",
      "A2t\n"
     ]
    },
    {
     "data": {
      "text/html": [
       "<html><script type=\"math/tex; mode=display\">\\newcommand{\\Bold}[1]{\\mathbf{#1}}-a_{i} + \\log\\left(-e^{\\left(a_{i} + u + u_{i}\\right)} + 1\\right) - \\log\\left(-e^{\\left(-a_{i} + u + u_{i}\\right)} + 1\\right)</script></html>"
      ],
      "text/plain": [
       "-a_i + log(-e^(a_i + u + u_i) + 1) - log(-e^(-a_i + u + u_i) + 1)"
      ]
     },
     "metadata": {},
     "output_type": "display_data"
    },
    {
     "data": {
      "text/html": [
       "<html><script type=\"math/tex; mode=display\">\\newcommand{\\Bold}[1]{\\mathbf{#1}}i \\, \\pi - u + u_{\\mathit{ij}} + \\log\\left(-e^{\\left(a_{i} - a_{j} + u - u_{\\mathit{ij}}\\right)} + 1\\right) - \\log\\left(-e^{\\left(a_{i} - a_{j} - u + u_{\\mathit{ij}}\\right)} + 1\\right)</script></html>"
      ],
      "text/plain": [
       "I*pi - u + u_ij + log(-e^(a_i - a_j + u - u_ij) + 1) - log(-e^(a_i - a_j - u + u_ij) + 1)"
      ]
     },
     "metadata": {},
     "output_type": "display_data"
    },
    {
     "data": {
      "text/html": [
       "<html><script type=\"math/tex; mode=display\">\\newcommand{\\Bold}[1]{\\mathbf{#1}}-a_{i} {\\left(u + u_{i}\\right)} - {\\rm Li}_2\\left(e^{\\left(a_{i} + u + u_{i}\\right)}\\right) + {\\rm Li}_2\\left(e^{\\left(-a_{i} + u + u_{i}\\right)}\\right)</script></html>"
      ],
      "text/plain": [
       "-a_i*(u + u_i) - dilog(e^(a_i + u + u_i)) + dilog(e^(-a_i + u + u_i))"
      ]
     },
     "metadata": {},
     "output_type": "display_data"
    },
    {
     "data": {
      "text/html": [
       "<html><script type=\"math/tex; mode=display\">\\newcommand{\\Bold}[1]{\\mathbf{#1}}i \\, \\pi {\\left(u + u_{\\mathit{ij}}\\right)} - \\frac{1}{2} \\, {\\left(u - u_{\\mathit{ij}}\\right)}^{2} - {\\rm Li}_2\\left(e^{\\left(a_{i} - a_{j} + u - u_{\\mathit{ij}}\\right)}\\right) - {\\rm Li}_2\\left(e^{\\left(a_{i} - a_{j} - u + u_{\\mathit{ij}}\\right)}\\right)</script></html>"
      ],
      "text/plain": [
       "I*pi*(u + u_ij) - 1/2*(u - u_ij)^2 - dilog(e^(a_i - a_j + u - u_ij)) - dilog(e^(a_i - a_j - u + u_ij))"
      ]
     },
     "metadata": {},
     "output_type": "display_data"
    },
    {
     "name": "stdout",
     "output_type": "stream",
     "text": [
      "\n"
     ]
    }
   ],
   "source": [
    "for eq in tABSlist:\n",
    "    print(eq.name)\n",
    "    show(eq.psi(u,u_i,a_i))\n",
    "    show(eq.phi(u,u_ij,a_i,a_j))\n",
    "    show(eq.Lshort(u,u_i,a_i))\n",
    "    show(eq.Llong(u,u_ij,a_i,a_j))\n",
    "    print()"
   ]
  },
  {
   "cell_type": "markdown",
   "metadata": {},
   "source": [
    "### Numerically test closure on random solutions\n",
    "\n",
    "Only non-zero results are printed.\n",
    "\n",
    "First for the fully-symmetric Lagrangians:"
   ]
  },
  {
   "cell_type": "code",
   "execution_count": 7,
   "metadata": {
    "scrolled": true
   },
   "outputs": [
    {
     "name": "stdout",
     "output_type": "stream",
     "text": [
      "lin\n",
      "\n",
      "H1\n",
      "\n",
      "H2\n",
      "\n",
      "H3_0t\n",
      "-39.48 + 1.776e-15*I\n",
      "-39.48 + 7.105e-15*I\n",
      "39.48 + 7.105e-15*I\n",
      "\n",
      "H3_1t\n",
      "39.48 - 5.204e-16*I\n",
      "-39.48 - 4.219e-15*I\n",
      "-39.48 - 3.553e-15*I\n",
      "-39.48 + 9.326e-15*I\n",
      "-39.48 - 3.553e-15*I\n",
      "39.48 - 1.332e-15*I\n",
      "\n",
      "Q1_0\n",
      "\n",
      "Q1_1\n",
      "\n",
      "Q2t\n",
      "\n",
      "Q3_0t\n",
      "-39.48 - 1.776e-15*I\n",
      "39.48 + 6.661e-15*I\n",
      "-39.48\n",
      "-39.48\n",
      "\n",
      "Q3_1t\n",
      "-78.96 - 1.421e-14*I\n",
      "157.9\n",
      "-78.96 + 3.553e-14*I\n",
      "-78.96 - 2.842e-14*I\n",
      "78.96 - 2.132e-14*I\n",
      "39.48 + 1.243e-14*I\n",
      "-39.48 + 2.842e-14*I\n",
      "-118.4 + 2.842e-14*I\n",
      "-39.48 + 1.421e-14*I\n",
      "-118.4 - 7.283e-14*I\n",
      "-39.48 + 1.421e-14*I\n",
      "-39.48 - 3.730e-14*I\n",
      "-39.48\n",
      "39.48 + 2.842e-14*I\n",
      "-39.48 - 7.105e-15*I\n",
      "39.48 - 1.776e-14*I\n",
      "\n",
      "A1_0\n",
      "\n",
      "A1_1\n",
      "\n",
      "A2t\n",
      "39.48 - 2.165e-15*I\n",
      "39.48 - 7.105e-15*I\n",
      "-39.48 + 1.776e-15*I\n",
      "39.48 + 7.105e-15*I\n",
      "-39.48 - 7.105e-15*I\n",
      "39.48 + 3.553e-15*I\n",
      "\n"
     ]
    }
   ],
   "source": [
    "numpy.random.seed(1)\n",
    "\n",
    "def absfloor(x):\n",
    "    return sign(x)*floor(abs(x))\n",
    "\n",
    "def find_exponents(expr, s=0, im=False):\n",
    "    expr = str(expr)\n",
    "    out = []\n",
    "    while expr.find(\"e^\") > 0:\n",
    "        expr = expr[expr.find(\"e^\"):]\n",
    "        end = expr.find(\")\")\n",
    "        expo = eval(expr[3:end])\n",
    "        if s == 0:\n",
    "            out += [expo]\n",
    "        elif im:\n",
    "            out += [absfloor(imaginary(N(expo.subs(s)))/2/pi)] \n",
    "        else:\n",
    "            out += [expo.subs(s).n(digits=4)]                \n",
    "        expr = expr[end:]\n",
    "    if out == []:\n",
    "        out += [0]\n",
    "    return out\n",
    "\n",
    "for eqn in [lin] + tABSlist:\n",
    "    print(eqn.name)\n",
    "    for i in range(20):\n",
    "        if eqn == H3_0t:\n",
    "            s = H3_0.solve_cube(randominit())\n",
    "            for v in paramvarlist: s[v] = log(s[v])\n",
    "        elif eqn == H3_1t:\n",
    "            s = H3_1.solve_cube(randominit())\n",
    "            for v in paramvarlist: s[v] = log(s[v])\n",
    "            for a in [a_i,a_j,a_k]: s[a] = s[a]+pi*I\n",
    "        elif eqn == Q2t:\n",
    "            s = Q2.solve_cube(randominit())\n",
    "            for v in varlist: s[v] = sqrt(s[v])\n",
    "        elif eqn == Q3_0t:\n",
    "            s = Q3_0.solve_cube(randominit())\n",
    "            for v in paramvarlist: s[v] = log(s[v])\n",
    "        elif eqn == A2t:\n",
    "            s = A2.solve_cube(randominit())\n",
    "            for v in paramvarlist: s[v] = log(s[v])\n",
    "        else:\n",
    "            s = eqn.solve_cube(randominit())\n",
    "        thetas = intfields(eqn.S4, s) # [ round(imaginary(-N(diff(eqn.S4, var).subs(s)/pi/2))) for var in paramvarlist]\n",
    "        extS = eqn.S4 + 2*pi*I*( sum([thetas[i]*paramvarlist[i] for i in range(len(paramvarlist))]))\n",
    "        closure = N(extS.subs(s))\n",
    "        if abs(closure) > 1e-10:\n",
    "            print( closure.n(digits=4) )\n",
    "    print()"
   ]
  },
  {
   "cell_type": "markdown",
   "metadata": {},
   "source": [
    "Then for the simpler non-symmetric Lagrangians:"
   ]
  },
  {
   "cell_type": "code",
   "execution_count": 8,
   "metadata": {
    "scrolled": true
   },
   "outputs": [
    {
     "name": "stdout",
     "output_type": "stream",
     "text": [
      "H1asym\n",
      "\n",
      "H2asym\n",
      "\n",
      "H3_0asym\n",
      "-39.48 - 8.882e-16*I\n",
      "-39.48 - 9.992e-16*I\n",
      "-39.48 + 1.776e-15*I\n",
      "-39.48 - 3.553e-15*I\n",
      "39.48 - 1.776e-15*I\n",
      "39.48 - 1.776e-15*I\n",
      "39.48\n",
      "39.48 + 8.882e-16*I\n",
      "\n",
      "H3_1asym\n",
      "-39.48 + 3.664e-15*I\n",
      "39.48 + 3.331e-15*I\n",
      "-39.48 - 6.217e-15*I\n",
      "39.48 + 3.109e-15*I\n",
      "-39.48 + 6.661e-15*I\n",
      "78.96 + 1.110e-15*I\n",
      "-39.48 + 3.997e-15*I\n",
      "-39.48 + 1.776e-15*I\n",
      "39.48\n",
      "\n",
      "Q1_0asym\n",
      "\n",
      "Q1_1asym\n",
      "\n",
      "Q2asym\n",
      "\n",
      "Q3_0asym\n",
      "39.48 + 2.665e-15*I\n",
      "-39.48 + 1.776e-15*I\n",
      "39.48 - 4.441e-15*I\n",
      "-39.48 + 3.553e-15*I\n",
      "-39.48 + 1.776e-15*I\n",
      "39.48 - 1.332e-15*I\n",
      "\n",
      "Q3_1asym\n",
      "39.48 - 4.263e-14*I\n",
      "-39.48 + 4.441e-15*I\n",
      "39.48 + 1.421e-14*I\n",
      "78.96 - 1.066e-14*I\n",
      "-39.48 - 1.066e-14*I\n",
      "78.96 - 1.421e-14*I\n",
      "-39.48 - 7.550e-15*I\n",
      "\n",
      "A1_0asym\n",
      "\n",
      "A1_1asym\n",
      "\n",
      "A2asym\n",
      "-39.48 - 1.332e-15*I\n",
      "78.96 + 3.553e-15*I\n",
      "39.48 + 7.105e-15*I\n",
      "-39.48 + 7.105e-15*I\n",
      "39.48 + 2.665e-15*I\n",
      "-39.48 + 1.776e-15*I\n",
      "-39.48 - 1.776e-15*I\n",
      "\n"
     ]
    }
   ],
   "source": [
    "numpy.random.seed(2)\n",
    "\n",
    "for eqn in asymABSlist:\n",
    "    print(eqn.name)\n",
    "    for i in range(20):\n",
    "        if eqn == H3_0asym:\n",
    "            s = H3_0.solve_cube(randominit())\n",
    "            for v in paramvarlist: s[v] = log(s[v])\n",
    "        elif eqn == H3_1asym:\n",
    "            s = H3_1.solve_cube(randominit())\n",
    "            for v in paramvarlist: s[v] = log(s[v])\n",
    "            for a in [a_i,a_j,a_k]: s[a] = s[a]+pi*I\n",
    "        elif eqn == Q2asym:\n",
    "            s = Q2.solve_cube(randominit())\n",
    "            for v in varlist: s[v] = sqrt(s[v])\n",
    "        elif eqn == Q3_0asym:\n",
    "            s = Q3_0.solve_cube(randominit())\n",
    "            for v in paramvarlist: s[v] = log(s[v])\n",
    "        elif eqn == A2asym:\n",
    "            s = A2.solve_cube(randominit())\n",
    "            for v in paramvarlist: s[v] = log(s[v])\n",
    "        else:\n",
    "            s = eqn.solve_cube(randominit())\n",
    "        thetas = intfields(eqn.S4, s)\n",
    "        extS = eqn.S4 + 2*pi*I*( sum([thetas[i]*paramvarlist[i] for i in range(len(paramvarlist))]))\n",
    "        closure = N(extS.subs(s))\n",
    "        if abs(closure) > 1e-10:\n",
    "            print( closure.n(digits=4) )\n",
    "    print()"
   ]
  },
  {
   "cell_type": "markdown",
   "metadata": {},
   "source": [
    "For H1 triangle Lagrangian with random weak solution"
   ]
  },
  {
   "cell_type": "code",
   "execution_count": 9,
   "metadata": {},
   "outputs": [
    {
     "name": "stdout",
     "output_type": "stream",
     "text": [
      "-3.553e-15 - 3.553e-15*I\n",
      "[0, 1, -1, 0, 0, 0, 0, 0, 0, 0, 0]\n",
      "\n",
      "7.994e-15 - 1.776e-15*I\n",
      "[0, 0, 0, 0, 0, 0, 0, 0, 0, 0, 0]\n",
      "\n",
      "5.329e-15 + 7.105e-15*I\n",
      "[1, -1, 0, 0, 0, 0, 0, 0, 0, 0, 0]\n",
      "\n",
      "-1.776e-15\n",
      "[0, 0, 0, 0, 0, 0, 0, 0, 0, 0, 0]\n",
      "\n",
      "0.0000\n",
      "[-1, 1, 0, 0, 0, 0, 0, 0, 0, 0, 0]\n",
      "\n"
     ]
    }
   ],
   "source": [
    "eqn = H1asym\n",
    "\n",
    "numpy.random.seed(1)\n",
    "\n",
    "for i in range(5):\n",
    "    init = randominit()\n",
    "    init[u_ij] = init[u]\n",
    "    del init[u]\n",
    "    s = init\n",
    "\n",
    "    s_octa = solve([eqn.corners()[0].subs(init),eqn.corners()[1].subs(init)],u_ik,u_jk)\n",
    "    for eq in s_octa[0]:\n",
    "        s[eq.lhs()] = N(eq.rhs())\n",
    "\n",
    "    thetas = intfields(eqn.S3, s)\n",
    "    extS = eqn.S3 + 2*pi*I*( sum([thetas[i]*paramvarlist[i] for i in range(len(paramvarlist))]))\n",
    "    closure = N(extS.subs(s))\n",
    "    \n",
    "    print( closure.n(digits=4) )\n",
    "    print(intfields(eqn.S3, s))\n",
    "    print()"
   ]
  },
  {
   "cell_type": "markdown",
   "metadata": {},
   "source": [
    "### Further checks: CAC"
   ]
  },
  {
   "cell_type": "code",
   "execution_count": 10,
   "metadata": {
    "scrolled": true
   },
   "outputs": [
    {
     "name": "stdout",
     "output_type": "stream",
     "text": [
      "H1\n",
      "True\n",
      "\n",
      "H2\n",
      "True\n",
      "\n",
      "H3_0\n",
      "True\n",
      "\n",
      "H3_1\n",
      "True\n",
      "\n",
      "Q1_0\n",
      "True\n",
      "\n",
      "Q1_1\n",
      "True\n",
      "\n",
      "Q2\n",
      "True\n",
      "\n",
      "Q3_0\n",
      "True\n",
      "\n",
      "Q3_1\n",
      "True\n",
      "\n",
      "A1_0\n",
      "True\n",
      "\n",
      "A1_1\n",
      "True\n",
      "\n",
      "A2\n",
      "True\n",
      "\n"
     ]
    }
   ],
   "source": [
    "for q in affABSlist: \n",
    "    print(q.name)\n",
    "    print(q.checkCAC(verbose=False))\n",
    "    print()"
   ]
  },
  {
   "cell_type": "markdown",
   "metadata": {},
   "source": [
    "### Lemma 9: initial data of the form 1+O(t)"
   ]
  },
  {
   "cell_type": "code",
   "execution_count": 11,
   "metadata": {
    "scrolled": true
   },
   "outputs": [
    {
     "name": "stdout",
     "output_type": "stream",
     "text": [
      "H1\n"
     ]
    },
    {
     "data": {
      "text/html": [
       "<html><script type=\"math/tex; mode=display\">\\newcommand{\\Bold}[1]{\\mathbf{#1}}1</script></html>"
      ],
      "text/plain": [
       "1"
      ]
     },
     "metadata": {},
     "output_type": "display_data"
    },
    {
     "data": {
      "text/html": [
       "<html><script type=\"math/tex; mode=display\">\\newcommand{\\Bold}[1]{\\mathbf{#1}}\\frac{w w_{i} - w w_{j} - c_{i} + c_{j}}{w_{i} - w_{j}}</script></html>"
      ],
      "text/plain": [
       "(w*w_i - w*w_j - c_i + c_j)/(w_i - w_j)"
      ]
     },
     "metadata": {},
     "output_type": "display_data"
    },
    {
     "name": "stdout",
     "output_type": "stream",
     "text": [
      "H2\n"
     ]
    },
    {
     "data": {
      "text/html": [
       "<html><script type=\"math/tex; mode=display\">\\newcommand{\\Bold}[1]{\\mathbf{#1}}1</script></html>"
      ],
      "text/plain": [
       "1"
      ]
     },
     "metadata": {},
     "output_type": "display_data"
    },
    {
     "data": {
      "text/html": [
       "<html><script type=\"math/tex; mode=display\">\\newcommand{\\Bold}[1]{\\mathbf{#1}}\\frac{w w_{i} - w w_{j} - 6 \\, c_{i} + 6 \\, c_{j}}{w_{i} - w_{j}}</script></html>"
      ],
      "text/plain": [
       "(w*w_i - w*w_j - 6*c_i + 6*c_j)/(w_i - w_j)"
      ]
     },
     "metadata": {},
     "output_type": "display_data"
    },
    {
     "name": "stdout",
     "output_type": "stream",
     "text": [
      "H3_0\n"
     ]
    },
    {
     "data": {
      "text/html": [
       "<html><script type=\"math/tex; mode=display\">\\newcommand{\\Bold}[1]{\\mathbf{#1}}1</script></html>"
      ],
      "text/plain": [
       "1"
      ]
     },
     "metadata": {},
     "output_type": "display_data"
    },
    {
     "data": {
      "text/html": [
       "<html><script type=\"math/tex; mode=display\">\\newcommand{\\Bold}[1]{\\mathbf{#1}}\\frac{w w_{i} - w w_{j} + 2 \\, c_{i} - 2 \\, c_{j}}{w_{i} - w_{j}}</script></html>"
      ],
      "text/plain": [
       "(w*w_i - w*w_j + 2*c_i - 2*c_j)/(w_i - w_j)"
      ]
     },
     "metadata": {},
     "output_type": "display_data"
    },
    {
     "name": "stdout",
     "output_type": "stream",
     "text": [
      "H3_1\n"
     ]
    },
    {
     "data": {
      "text/html": [
       "<html><script type=\"math/tex; mode=display\">\\newcommand{\\Bold}[1]{\\mathbf{#1}}1</script></html>"
      ],
      "text/plain": [
       "1"
      ]
     },
     "metadata": {},
     "output_type": "display_data"
    },
    {
     "data": {
      "text/html": [
       "<html><script type=\"math/tex; mode=display\">\\newcommand{\\Bold}[1]{\\mathbf{#1}}\\frac{w w_{i} - w w_{j} + 4 \\, c_{i} - 4 \\, c_{j}}{w_{i} - w_{j}}</script></html>"
      ],
      "text/plain": [
       "(w*w_i - w*w_j + 4*c_i - 4*c_j)/(w_i - w_j)"
      ]
     },
     "metadata": {},
     "output_type": "display_data"
    },
    {
     "name": "stdout",
     "output_type": "stream",
     "text": [
      "Q1_0\n"
     ]
    },
    {
     "data": {
      "text/html": [
       "<html><script type=\"math/tex; mode=display\">\\newcommand{\\Bold}[1]{\\mathbf{#1}}1</script></html>"
      ],
      "text/plain": [
       "1"
      ]
     },
     "metadata": {},
     "output_type": "display_data"
    },
    {
     "data": {
      "text/html": [
       "<html><script type=\"math/tex; mode=display\">\\newcommand{\\Bold}[1]{\\mathbf{#1}}w</script></html>"
      ],
      "text/plain": [
       "w"
      ]
     },
     "metadata": {},
     "output_type": "display_data"
    },
    {
     "name": "stdout",
     "output_type": "stream",
     "text": [
      "Q1_1\n"
     ]
    },
    {
     "data": {
      "text/html": [
       "<html><script type=\"math/tex; mode=display\">\\newcommand{\\Bold}[1]{\\mathbf{#1}}1</script></html>"
      ],
      "text/plain": [
       "1"
      ]
     },
     "metadata": {},
     "output_type": "display_data"
    },
    {
     "data": {
      "text/html": [
       "<html><script type=\"math/tex; mode=display\">\\newcommand{\\Bold}[1]{\\mathbf{#1}}\\frac{w w_{i} - w w_{j} + c_{i} - c_{j}}{w_{i} - w_{j}}</script></html>"
      ],
      "text/plain": [
       "(w*w_i - w*w_j + c_i - c_j)/(w_i - w_j)"
      ]
     },
     "metadata": {},
     "output_type": "display_data"
    },
    {
     "name": "stdout",
     "output_type": "stream",
     "text": [
      "Q2\n"
     ]
    },
    {
     "data": {
      "text/html": [
       "<html><script type=\"math/tex; mode=display\">\\newcommand{\\Bold}[1]{\\mathbf{#1}}1</script></html>"
      ],
      "text/plain": [
       "1"
      ]
     },
     "metadata": {},
     "output_type": "display_data"
    },
    {
     "data": {
      "text/html": [
       "<html><script type=\"math/tex; mode=display\">\\newcommand{\\Bold}[1]{\\mathbf{#1}}\\frac{w w_{i} - w w_{j} + 3 \\, c_{i} - 3 \\, c_{j}}{w_{i} - w_{j}}</script></html>"
      ],
      "text/plain": [
       "(w*w_i - w*w_j + 3*c_i - 3*c_j)/(w_i - w_j)"
      ]
     },
     "metadata": {},
     "output_type": "display_data"
    },
    {
     "name": "stdout",
     "output_type": "stream",
     "text": [
      "Q3_0\n"
     ]
    },
    {
     "data": {
      "text/html": [
       "<html><script type=\"math/tex; mode=display\">\\newcommand{\\Bold}[1]{\\mathbf{#1}}1</script></html>"
      ],
      "text/plain": [
       "1"
      ]
     },
     "metadata": {},
     "output_type": "display_data"
    },
    {
     "data": {
      "text/html": [
       "<html><script type=\"math/tex; mode=display\">\\newcommand{\\Bold}[1]{\\mathbf{#1}}\\frac{c_{i} w w_{i} - {\\left(c_{j} w + {\\left(c_{i} - c_{j}\\right)} w_{i}\\right)} w_{j}}{{\\left(c_{i} - c_{j}\\right)} w + c_{j} w_{i} - c_{i} w_{j}}</script></html>"
      ],
      "text/plain": [
       "(c_i*w*w_i - (c_j*w + (c_i - c_j)*w_i)*w_j)/((c_i - c_j)*w + c_j*w_i - c_i*w_j)"
      ]
     },
     "metadata": {},
     "output_type": "display_data"
    },
    {
     "name": "stdout",
     "output_type": "stream",
     "text": [
      "Q3_1\n"
     ]
    },
    {
     "data": {
      "text/html": [
       "<html><script type=\"math/tex; mode=display\">\\newcommand{\\Bold}[1]{\\mathbf{#1}}-1</script></html>"
      ],
      "text/plain": [
       "-1"
      ]
     },
     "metadata": {},
     "output_type": "display_data"
    },
    {
     "data": {
      "text/html": [
       "<html><script type=\"math/tex; mode=display\">\\newcommand{\\Bold}[1]{\\mathbf{#1}}-\\frac{c_{i} w_{i} - c_{j} w_{j}}{c_{i} - c_{j}}</script></html>"
      ],
      "text/plain": [
       "-(c_i*w_i - c_j*w_j)/(c_i - c_j)"
      ]
     },
     "metadata": {},
     "output_type": "display_data"
    },
    {
     "name": "stdout",
     "output_type": "stream",
     "text": [
      "A1_0\n"
     ]
    },
    {
     "data": {
      "text/html": [
       "<html><script type=\"math/tex; mode=display\">\\newcommand{\\Bold}[1]{\\mathbf{#1}}1</script></html>"
      ],
      "text/plain": [
       "1"
      ]
     },
     "metadata": {},
     "output_type": "display_data"
    },
    {
     "data": {
      "text/html": [
       "<html><script type=\"math/tex; mode=display\">\\newcommand{\\Bold}[1]{\\mathbf{#1}}\\frac{w w_{i} - w w_{j} + 4 \\, c_{i} - 4 \\, c_{j}}{w_{i} - w_{j}}</script></html>"
      ],
      "text/plain": [
       "(w*w_i - w*w_j + 4*c_i - 4*c_j)/(w_i - w_j)"
      ]
     },
     "metadata": {},
     "output_type": "display_data"
    },
    {
     "name": "stdout",
     "output_type": "stream",
     "text": [
      "A1_1\n"
     ]
    },
    {
     "data": {
      "text/html": [
       "<html><script type=\"math/tex; mode=display\">\\newcommand{\\Bold}[1]{\\mathbf{#1}}1</script></html>"
      ],
      "text/plain": [
       "1"
      ]
     },
     "metadata": {},
     "output_type": "display_data"
    },
    {
     "data": {
      "text/html": [
       "<html><script type=\"math/tex; mode=display\">\\newcommand{\\Bold}[1]{\\mathbf{#1}}\\frac{w w_{i} - w w_{j} + 3 \\, c_{i} - 3 \\, c_{j}}{w_{i} - w_{j}}</script></html>"
      ],
      "text/plain": [
       "(w*w_i - w*w_j + 3*c_i - 3*c_j)/(w_i - w_j)"
      ]
     },
     "metadata": {},
     "output_type": "display_data"
    },
    {
     "name": "stdout",
     "output_type": "stream",
     "text": [
      "A2\n"
     ]
    },
    {
     "data": {
      "text/html": [
       "<html><script type=\"math/tex; mode=display\">\\newcommand{\\Bold}[1]{\\mathbf{#1}}1</script></html>"
      ],
      "text/plain": [
       "1"
      ]
     },
     "metadata": {},
     "output_type": "display_data"
    },
    {
     "data": {
      "text/html": [
       "<html><script type=\"math/tex; mode=display\">\\newcommand{\\Bold}[1]{\\mathbf{#1}}-\\frac{c_{i} w w_{i} - {\\left(c_{j} w - {\\left(c_{i} - c_{j}\\right)} w_{i}\\right)} w_{j}}{{\\left(c_{i} - c_{j}\\right)} w - c_{j} w_{i} + c_{i} w_{j}}</script></html>"
      ],
      "text/plain": [
       "-(c_i*w*w_i - (c_j*w - (c_i - c_j)*w_i)*w_j)/((c_i - c_j)*w - c_j*w_i + c_i*w_j)"
      ]
     },
     "metadata": {},
     "output_type": "display_data"
    }
   ],
   "source": [
    "var(\"w,w_i,w_j\")\n",
    "var(\"c_i,c_j\")\n",
    "var(\"t\")\n",
    "expansion = {u:1+w*t, u_i:1+w_i*t, u_j:1+w_j*t, a_i:1+c_i*t^2, a_j:1+c_j*t^2}\n",
    "for eq in affABSlist:\n",
    "    print(eq.name)\n",
    "    doubleshift = u_ij.subs(solve(eq.Q,u_ij)).subs(expansion).simplify_rational().series(t,2)\n",
    "    show( doubleshift.coefficient(t,0).simplify_full() )\n",
    "    show( doubleshift.coefficient(t,1).simplify_full() )"
   ]
  },
  {
   "cell_type": "markdown",
   "metadata": {},
   "source": [
    "# Explicit examples"
   ]
  },
  {
   "cell_type": "markdown",
   "metadata": {},
   "source": [
    "### H2, part 1: random solutions: 2 π i terms in three-leg form"
   ]
  },
  {
   "cell_type": "code",
   "execution_count": 12,
   "metadata": {
    "scrolled": true
   },
   "outputs": [
    {
     "name": "stdout",
     "output_type": "stream",
     "text": [
      "0.0000\n",
      "-6.283*I\n",
      "\n",
      "-4.441e-16 - 6.283*I\n",
      "0.0000\n",
      "\n",
      "-6.283*I\n",
      "2.810e-16\n",
      "\n",
      "-8.882e-16 - 6.283*I\n",
      "1.554e-15 - 6.283*I\n",
      "\n",
      "-4.441e-16 - 6.283*I\n",
      "6.661e-16\n",
      "\n",
      "0.0000\n",
      "-6.283*I\n",
      "\n",
      "8.882e-16 - 6.283*I\n",
      "2.220e-16\n",
      "\n",
      "2.220e-16\n",
      "-2.220e-16 - 6.283*I\n",
      "\n",
      "-2.220e-16\n",
      "-2.220e-16 - 6.283*I\n",
      "\n",
      "4.441e-16 + 6.283*I\n",
      "-5.551e-17 - 12.57*I\n",
      "\n"
     ]
    }
   ],
   "source": [
    "eqn = H2\n",
    "\n",
    "for i in range(10):\n",
    "    s = eqn.solve_cube(randominit())\n",
    "    print( ( (eqn.psi(u,u_i,a_i) - eqn.psi(u,u_j,a_j) - eqn.phi(u,u_ij,a_i,a_j)).subs(s)).n(digits=4) )\n",
    "    print( ( (eqn.psi(u_ij,u_j,a_i) - eqn.psi(u_ij,u_i,a_j) - eqn.phi(u_ij,u,a_i,a_j)).subs(s) ).n(digits=4) )\n",
    "    print()"
   ]
  },
  {
   "cell_type": "markdown",
   "metadata": {},
   "source": [
    "### H1, part 5: explicit example with S = ± 2 π i without adding Ξ"
   ]
  },
  {
   "cell_type": "code",
   "execution_count": 13,
   "metadata": {},
   "outputs": [
    {
     "name": "stdout",
     "output_type": "stream",
     "text": [
      "(a_i - a_j)*log(u - u_ij)\n",
      "\n",
      "{a_i: 1, a_j: 2, a_k: 3, u: 0, u_i: 1, u_j: I, u_k: I + 1, u_ij: 1/2*I + 1/2, u_jk: -1, u_ik: 2*I, u_ijk: 3/5*I + 6/5}\n",
      "\n",
      "[0, -1, 1, 0, 0, 0, 0, 0, 0, 0, 0]\n",
      "\n",
      "-6.283*I\n",
      "0.00001526 - 6.283*I\n",
      "-0.00001144 + 6.283*I\n"
     ]
    }
   ],
   "source": [
    "eqn = H1asym\n",
    "\n",
    "print(eqn.Llong(u,u_ij,a_i,a_j))\n",
    "print()\n",
    "\n",
    "init = {a_i: 1, a_j: 2, a_k: 3, u: 0, u_i: 1, u_j: I, u_k: 1+I}\n",
    "s = eqn.solve_cube(init)\n",
    "thetas = intfields(eqn.S4, s)\n",
    "\n",
    "print(s)\n",
    "print()\n",
    "\n",
    "print(thetas)\n",
    "print()\n",
    "\n",
    "print( (diff(eqn.S4,a_k).subs(s)).n(digits=4) )\n",
    "print( (eqn.S4.subs(s)).n(digits=4) )\n",
    "print( (eqn.S3.subs(s)).n(digits=4) )"
   ]
  },
  {
   "cell_type": "markdown",
   "metadata": {},
   "source": [
    "### H3_0, part 3: explicit example with S = -4 pi^2"
   ]
  },
  {
   "cell_type": "code",
   "execution_count": 14,
   "metadata": {
    "scrolled": true
   },
   "outputs": [
    {
     "name": "stdout",
     "output_type": "stream",
     "text": [
      "{u: 1.00000000000000 - 1.00000000000000*I, u_i: 1.00000000000000 + 1.00000000000000*I, u_j: 1.00000000000000*I, u_k: 2.00000000000000 + 1.00000000000000*I, a_i: 2.00000000000000 - 2.00000000000000*I, a_j: 1.00000000000000 + 2.00000000000000*I, a_k: 1.00000000000000, u_ij: 1.49110840612501 + 1.80621078461947*I, u_jk: 1.00000000000000 + 3.05123312020969*I, u_ik: 0.459012522305983 + 1.68677242027984*I, u_ijk: 1.05436866494958 - 2.73523350791485*I}\n",
      "\n",
      "[0, 0, 0, -1, 0, 0, 1, 1, 0, 0, -1]\n",
      "-39.4784176043574 + 1.77635683940025e-15*I\n"
     ]
    }
   ],
   "source": [
    "eqn = H3_0asym\n",
    "\n",
    "init = {u: exp(1 - I), u_i: exp(1 + I), u_j: exp(I),\n",
    "        u_k: exp(2 + I), a_i: exp(2 - 2*I), a_j: exp(1 + 2*I), a_k: exp(1)}\n",
    "\n",
    "s = H3_0.solve_cube(init)\n",
    "for v in paramvarlist: s[v] = N(log(s[v]))\n",
    "print(s)\n",
    "print()\n",
    "\n",
    "thetas = intfields(eqn.S4, s)\n",
    "print(thetas)\n",
    "extS = eqn.S4 + 2*pi*I*( sum([thetas[i]*paramvarlist[i] for i in range(len(paramvarlist))]))\n",
    "closure = (extS.subs(s)).n()\n",
    "print(closure)"
   ]
  },
  {
   "cell_type": "markdown",
   "metadata": {},
   "source": [
    "### H2, part 2: neighbouring cubes require different Θ"
   ]
  },
  {
   "cell_type": "code",
   "execution_count": 15,
   "metadata": {},
   "outputs": [
    {
     "name": "stdout",
     "output_type": "stream",
     "text": [
      "{a_i: -I + 1, a_j: -I, a_k: 1, u: 0, u_i: 1, u_j: I + 1, u_k: I, u_ij: -I - 2, u_jk: I - 3, u_ik: 3/5*I - 6/5, u_ijk: 3/5*I + 6/5}\n",
      "{a_i: -I + 1, a_j: -I, a_k: 1, u: 1, u_j: -I - 2, u_k: 3/5*I - 6/5, u_i: 1, u_ij: 14/17*I + 12/17, u_jk: 3/5*I + 6/5, u_ik: 45/37*I + 11/37, u_ijk: 1/2*I - 17/6}\n",
      "\n",
      "[a_i, a_j, a_k, u, u_i, u_j, u_k, u_ij, u_jk, u_ik, u_ijk]\n",
      "[0, -1, 1, -1, 1, 0, 1, 0, -1, -1, 1]\n",
      "[-1, 1, 0, -1, 1, 0, 1, -1, 0, -1, 1]\n"
     ]
    }
   ],
   "source": [
    "eqn = H2\n",
    "\n",
    "init = {a_i:1-I, a_j: -I, a_k: 1, u: 0, u_i: 1, u_j: 1+I, u_k: I}\n",
    "s = eqn.solve_cube(init)\n",
    "thetas = intfields(eqn.S4, s)\n",
    "\n",
    "si = {a_i: s[a_i], a_j: s[a_j], a_k: s[a_k]}\n",
    "si[u] = s[u_i]\n",
    "si[u_j] = s[u_ij]\n",
    "si[u_k] = s[u_ik]\n",
    "si[u_i] = 1\n",
    "si = eqn.solve_cube(si)\n",
    "\n",
    "thetasi = intfields(eqn.S4, si)\n",
    "\n",
    "print(s)\n",
    "print(si)\n",
    "print()\n",
    "\n",
    "print(paramvarlist)\n",
    "print(thetas)\n",
    "print(thetasi)"
   ]
  },
  {
   "cell_type": "code",
   "execution_count": null,
   "metadata": {},
   "outputs": [],
   "source": []
  },
  {
   "cell_type": "code",
   "execution_count": null,
   "metadata": {},
   "outputs": [],
   "source": []
  }
 ],
 "metadata": {
  "kernelspec": {
   "display_name": "SageMath 9.1",
   "language": "sage",
   "name": "sagemath"
  },
  "language_info": {
   "codemirror_mode": {
    "name": "ipython",
    "version": 3
   },
   "file_extension": ".py",
   "mimetype": "text/x-python",
   "name": "python",
   "nbconvert_exporter": "python",
   "pygments_lexer": "ipython3",
   "version": "3.7.3"
  }
 },
 "nbformat": 4,
 "nbformat_minor": 5
}
